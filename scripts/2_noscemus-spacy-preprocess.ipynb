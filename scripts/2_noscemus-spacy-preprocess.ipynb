{
 "cells": [
  {
   "cell_type": "markdown",
   "source": [
    "# Spacy"
   ],
   "metadata": {
    "collapsed": false
   },
   "id": "c4cc8098de77557c"
  },
  {
   "cell_type": "code",
   "execution_count": null,
   "outputs": [],
   "source": [
    "###  pip install https://huggingface.co/latincy/la_core_web_lg/resolve/main/la_core_web_lg-any-py3-none-any.whl"
   ],
   "metadata": {
    "collapsed": false
   },
   "id": "a6cb7f7fd20eab61"
  },
  {
   "cell_type": "code",
   "execution_count": 1,
   "outputs": [],
   "source": [
    "import spacy\n",
    "from spacy.tokens import Doc\n",
    "from spacy.language import Language\n",
    "import sddk\n",
    "import pandas as pd\n",
    "import re"
   ],
   "metadata": {
    "collapsed": false,
    "ExecuteTime": {
     "end_time": "2023-11-06T14:20:03.797157Z",
     "start_time": "2023-11-06T14:20:01.854617Z"
    }
   },
   "id": "e0ce4f34f4f582c3"
  },
  {
   "cell_type": "code",
   "execution_count": 2,
   "outputs": [
    {
     "data": {
      "text/plain": "True"
     },
     "execution_count": 2,
     "metadata": {},
     "output_type": "execute_result"
    }
   ],
   "source": [
    "spacy.prefer_gpu()"
   ],
   "metadata": {
    "collapsed": false,
    "ExecuteTime": {
     "end_time": "2023-11-06T14:20:03.803637Z",
     "start_time": "2023-11-06T14:20:03.799269Z"
    }
   },
   "id": "ec4218d8f7a4bf96"
  },
  {
   "cell_type": "code",
   "execution_count": 3,
   "outputs": [],
   "source": [
    "nlp = spacy.load('la_core_web_lg')"
   ],
   "metadata": {
    "collapsed": false,
    "ExecuteTime": {
     "end_time": "2023-11-06T14:20:04.420683Z",
     "start_time": "2023-11-06T14:20:03.802196Z"
    }
   },
   "id": "9c0a5b1532dba641"
  },
  {
   "cell_type": "code",
   "execution_count": 4,
   "outputs": [
    {
     "data": {
      "text/plain": "1000000"
     },
     "execution_count": 4,
     "metadata": {},
     "output_type": "execute_result"
    }
   ],
   "source": [
    "nlp.max_length"
   ],
   "metadata": {
    "collapsed": false,
    "ExecuteTime": {
     "end_time": "2023-11-06T14:20:04.426726Z",
     "start_time": "2023-11-06T14:20:04.421795Z"
    }
   },
   "id": "660e4b488203ea76"
  },
  {
   "cell_type": "code",
   "execution_count": 5,
   "outputs": [
    {
     "data": {
      "text/plain": "   Unnamed: 0       id                                     filenames_list\n0           0  1031760  ['Bacon,_Francis_-_Instauratio_magna__London_1...\n1           1  1085290  ['Linden,_Johannes_Antonides_van_der_-_Lindeni...\n2           2  1285853  ['de_Conde,_Ioannes_Baptista_-_Aphorismi_seu_a...\n3           3  1285854  ['van_Poort,_Henricus_-_Hippocratis_Aphorismi_...\n4           4  1285855  ['Hippocrates_&_Denisot,_Gérard_-_Hippocratis_...",
      "text/html": "<div>\n<style scoped>\n    .dataframe tbody tr th:only-of-type {\n        vertical-align: middle;\n    }\n\n    .dataframe tbody tr th {\n        vertical-align: top;\n    }\n\n    .dataframe thead th {\n        text-align: right;\n    }\n</style>\n<table border=\"1\" class=\"dataframe\">\n  <thead>\n    <tr style=\"text-align: right;\">\n      <th></th>\n      <th>Unnamed: 0</th>\n      <th>id</th>\n      <th>filenames_list</th>\n    </tr>\n  </thead>\n  <tbody>\n    <tr>\n      <th>0</th>\n      <td>0</td>\n      <td>1031760</td>\n      <td>['Bacon,_Francis_-_Instauratio_magna__London_1...</td>\n    </tr>\n    <tr>\n      <th>1</th>\n      <td>1</td>\n      <td>1085290</td>\n      <td>['Linden,_Johannes_Antonides_van_der_-_Lindeni...</td>\n    </tr>\n    <tr>\n      <th>2</th>\n      <td>2</td>\n      <td>1285853</td>\n      <td>['de_Conde,_Ioannes_Baptista_-_Aphorismi_seu_a...</td>\n    </tr>\n    <tr>\n      <th>3</th>\n      <td>3</td>\n      <td>1285854</td>\n      <td>['van_Poort,_Henricus_-_Hippocratis_Aphorismi_...</td>\n    </tr>\n    <tr>\n      <th>4</th>\n      <td>4</td>\n      <td>1285855</td>\n      <td>['Hippocrates_&amp;_Denisot,_Gérard_-_Hippocratis_...</td>\n    </tr>\n  </tbody>\n</table>\n</div>"
     },
     "execution_count": 5,
     "metadata": {},
     "output_type": "execute_result"
    }
   ],
   "source": [
    "ids_filenames_df = pd.read_csv(\"../data/ids_filenames_df.csv\")\n",
    "ids_filenames_df.head(5)"
   ],
   "metadata": {
    "collapsed": false,
    "ExecuteTime": {
     "end_time": "2023-11-06T14:20:06.848916Z",
     "start_time": "2023-11-06T14:20:06.827774Z"
    }
   },
   "id": "cf5610b8275e53a1"
  },
  {
   "cell_type": "code",
   "execution_count": 6,
   "outputs": [
    {
     "data": {
      "text/plain": "1    ['Linden,_Johannes_Antonides_van_der_-_Lindeni...\nName: filenames_list, dtype: object"
     },
     "execution_count": 6,
     "metadata": {},
     "output_type": "execute_result"
    }
   ],
   "source": [
    "ids_filenames_df[ids_filenames_df[\"id\"]==1085290][\"filenames_list\"]"
   ],
   "metadata": {
    "collapsed": false,
    "ExecuteTime": {
     "end_time": "2023-11-06T14:20:07.478926Z",
     "start_time": "2023-11-06T14:20:07.465275Z"
    }
   },
   "id": "2b4f7da26d9dc25d"
  },
  {
   "cell_type": "code",
   "execution_count": 7,
   "outputs": [
    {
     "data": {
      "text/plain": "         Unnamed: 0                                     filenames_list\nid                                                                    \n1031760           0  ['Bacon,_Francis_-_Instauratio_magna__London_1...\n1085290           1  ['Linden,_Johannes_Antonides_van_der_-_Lindeni...\n1285853           2  ['de_Conde,_Ioannes_Baptista_-_Aphorismi_seu_a...\n1285854           3  ['van_Poort,_Henricus_-_Hippocratis_Aphorismi_...\n1285855           4  ['Hippocrates_&_Denisot,_Gérard_-_Hippocratis_...",
      "text/html": "<div>\n<style scoped>\n    .dataframe tbody tr th:only-of-type {\n        vertical-align: middle;\n    }\n\n    .dataframe tbody tr th {\n        vertical-align: top;\n    }\n\n    .dataframe thead th {\n        text-align: right;\n    }\n</style>\n<table border=\"1\" class=\"dataframe\">\n  <thead>\n    <tr style=\"text-align: right;\">\n      <th></th>\n      <th>Unnamed: 0</th>\n      <th>filenames_list</th>\n    </tr>\n    <tr>\n      <th>id</th>\n      <th></th>\n      <th></th>\n    </tr>\n  </thead>\n  <tbody>\n    <tr>\n      <th>1031760</th>\n      <td>0</td>\n      <td>['Bacon,_Francis_-_Instauratio_magna__London_1...</td>\n    </tr>\n    <tr>\n      <th>1085290</th>\n      <td>1</td>\n      <td>['Linden,_Johannes_Antonides_van_der_-_Lindeni...</td>\n    </tr>\n    <tr>\n      <th>1285853</th>\n      <td>2</td>\n      <td>['de_Conde,_Ioannes_Baptista_-_Aphorismi_seu_a...</td>\n    </tr>\n    <tr>\n      <th>1285854</th>\n      <td>3</td>\n      <td>['van_Poort,_Henricus_-_Hippocratis_Aphorismi_...</td>\n    </tr>\n    <tr>\n      <th>1285855</th>\n      <td>4</td>\n      <td>['Hippocrates_&amp;_Denisot,_Gérard_-_Hippocratis_...</td>\n    </tr>\n  </tbody>\n</table>\n</div>"
     },
     "execution_count": 7,
     "metadata": {},
     "output_type": "execute_result"
    }
   ],
   "source": [
    "ids_filenames_df.set_index(\"id\", inplace=True)\n",
    "ids_filenames_df.head(5)"
   ],
   "metadata": {
    "collapsed": false,
    "ExecuteTime": {
     "end_time": "2023-11-06T14:20:07.897116Z",
     "start_time": "2023-11-06T14:20:07.867913Z"
    }
   },
   "id": "d0ca2d1528d5aff3"
  },
  {
   "cell_type": "markdown",
   "source": [
    "### Spacy test"
   ],
   "metadata": {
    "collapsed": false
   },
   "id": "b43330a230a2ff84"
  },
  {
   "cell_type": "code",
   "execution_count": 8,
   "outputs": [],
   "source": [
    "vitruvius = \"Architecti est scientia pluribus disciplinis et variis eruditionibus ornata, quae ab ceteris artibus perficiuntur. Opera ea nascitur et fabrica et ratiocinatione.\""
   ],
   "metadata": {
    "collapsed": false,
    "ExecuteTime": {
     "end_time": "2023-11-06T14:20:08.858698Z",
     "start_time": "2023-11-06T14:20:08.835437Z"
    }
   },
   "id": "893dfae9c690b086"
  },
  {
   "cell_type": "code",
   "execution_count": 9,
   "outputs": [],
   "source": [
    "doc = nlp(vitruvius)"
   ],
   "metadata": {
    "collapsed": false,
    "ExecuteTime": {
     "end_time": "2023-11-06T14:20:09.504564Z",
     "start_time": "2023-11-06T14:20:09.482275Z"
    }
   },
   "id": "b6ee2425d50e7ceb"
  },
  {
   "cell_type": "code",
   "execution_count": 10,
   "outputs": [
    {
     "name": "stdout",
     "output_type": "stream",
     "text": [
      "Architecti PROPN Architectus\n",
      "est AUX sum\n",
      "scientia NOUN scientia\n",
      "pluribus ADJ multus\n",
      "disciplinis NOUN disciplina\n",
      "et CCONJ et\n",
      "variis ADJ uarius\n",
      "eruditionibus NOUN eruditio\n",
      "ornata VERB orno\n",
      ", PUNCT ,\n",
      "quae PRON qui\n",
      "ab ADP ab\n",
      "ceteris DET ceterus\n",
      "artibus NOUN ars\n",
      "perficiuntur VERB perficio\n",
      ". PUNCT .\n",
      "Opera NOUN Opus\n",
      "ea PRON is\n",
      "nascitur VERB nascor\n",
      "et CCONJ et\n",
      "fabrica NOUN fabrica\n",
      "et CCONJ et\n",
      "ratiocinatione NOUN ratiocinatio\n",
      ". PUNCT .\n"
     ]
    }
   ],
   "source": [
    "for token in doc:\n",
    "    print(token.text, token.pos_, token.lemma_)"
   ],
   "metadata": {
    "collapsed": false,
    "ExecuteTime": {
     "end_time": "2023-11-06T14:20:09.830773Z",
     "start_time": "2023-11-06T14:20:09.819821Z"
    }
   },
   "id": "fb84a1d49a51346"
  },
  {
   "cell_type": "code",
   "execution_count": 11,
   "outputs": [],
   "source": [
    "all_sents_lemmata = []\n",
    "for sent in doc.sents:\n",
    "    sent_lemmata = []\n",
    "    for token in sent:\n",
    "        if token.pos_ in [\"NOUN\", \"VERB\", \"ADJ\"]:\n",
    "            sent_lemmata.append(token.lemma_)\n",
    "    all_sents_lemmata.append(sent_lemmata)"
   ],
   "metadata": {
    "collapsed": false,
    "ExecuteTime": {
     "end_time": "2023-11-06T14:20:10.056310Z",
     "start_time": "2023-11-06T14:20:10.049249Z"
    }
   },
   "id": "ea28288817d77633"
  },
  {
   "cell_type": "code",
   "execution_count": 12,
   "outputs": [
    {
     "data": {
      "text/plain": "[['scientia',\n  'multus',\n  'disciplina',\n  'uarius',\n  'eruditio',\n  'orno',\n  'ars',\n  'perficio'],\n ['Opus', 'nascor', 'fabrica', 'ratiocinatio']]"
     },
     "execution_count": 12,
     "metadata": {},
     "output_type": "execute_result"
    }
   ],
   "source": [
    "all_sents_lemmata"
   ],
   "metadata": {
    "collapsed": false,
    "ExecuteTime": {
     "end_time": "2023-11-06T14:20:10.279616Z",
     "start_time": "2023-11-06T14:20:10.261608Z"
    }
   },
   "id": "2dd6490a9a9ec239"
  },
  {
   "cell_type": "markdown",
   "source": [
    "# Apply spacy model on nocsemus"
   ],
   "metadata": {
    "collapsed": false
   },
   "id": "8c2d2965eb15bfa8"
  },
  {
   "cell_type": "code",
   "execution_count": 13,
   "outputs": [
    {
     "name": "stdout",
     "output_type": "stream",
     "text": [
      "connection with shared folder established with you as its ordinary user\n",
      "endpoint variable has been configured to: https://sciencedata.dk/sharingout/kase%40zcu.cz/TOME/DATA/NOSCEMUS/\n"
     ]
    }
   ],
   "source": [
    "s = sddk.cloudSession(provider=\"sciencedata.dk\", shared_folder_name=\"TOME/DATA/NOSCEMUS\", owner=\"kase@zcu.cz\")"
   ],
   "metadata": {
    "collapsed": false,
    "ExecuteTime": {
     "end_time": "2023-11-06T14:20:21.995885Z",
     "start_time": "2023-11-06T14:20:11.068286Z"
    }
   },
   "id": "6f4f09fd1d1b3fa1"
  },
  {
   "cell_type": "code",
   "execution_count": 14,
   "outputs": [],
   "source": [
    "# load metadata"
   ],
   "metadata": {
    "collapsed": false,
    "ExecuteTime": {
     "end_time": "2023-11-06T14:20:24.483064Z",
     "start_time": "2023-11-06T14:20:24.471369Z"
    }
   },
   "id": "c98c587cc0465b6f"
  },
  {
   "cell_type": "code",
   "execution_count": 15,
   "outputs": [],
   "source": [
    "# extract a list of ids for iteration\n",
    "filenames_list = s.list_filenames(\"noscemus_raw\", \"txt\")"
   ],
   "metadata": {
    "collapsed": false,
    "ExecuteTime": {
     "end_time": "2023-11-06T14:20:26.221212Z",
     "start_time": "2023-11-06T14:20:25.138318Z"
    }
   },
   "id": "69ed530b6d94fd09"
  },
  {
   "cell_type": "code",
   "execution_count": 16,
   "outputs": [
    {
     "data": {
      "text/plain": "['1031760.txt',\n '1085290.txt',\n '1285853.txt',\n '1285854.txt',\n '1285855.txt',\n '1285856.txt',\n '1365811.txt',\n '1370560.txt',\n '1378359.txt',\n '1424044.txt']"
     },
     "execution_count": 16,
     "metadata": {},
     "output_type": "execute_result"
    }
   ],
   "source": [
    "filenames_list[:10]"
   ],
   "metadata": {
    "collapsed": false,
    "ExecuteTime": {
     "end_time": "2023-11-06T14:20:26.227347Z",
     "start_time": "2023-11-06T14:20:26.222596Z"
    }
   },
   "id": "558597355b6a3a1a"
  },
  {
   "cell_type": "code",
   "execution_count": 17,
   "outputs": [
    {
     "data": {
      "text/plain": "[]"
     },
     "execution_count": 17,
     "metadata": {},
     "output_type": "execute_result"
    }
   ],
   "source": [
    "[fn for fn in filenames_list if \"_\" in fn]"
   ],
   "metadata": {
    "collapsed": false,
    "ExecuteTime": {
     "end_time": "2023-11-06T14:20:28.189748Z",
     "start_time": "2023-11-06T14:20:28.178691Z"
    }
   },
   "id": "a6c5b5bddcb4f535"
  },
  {
   "cell_type": "code",
   "execution_count": 18,
   "outputs": [],
   "source": [
    "ids = [fn.partition(\".\")[0] for fn in filenames_list]"
   ],
   "metadata": {
    "collapsed": false,
    "ExecuteTime": {
     "end_time": "2023-11-06T14:20:28.400169Z",
     "start_time": "2023-11-06T14:20:28.392909Z"
    }
   },
   "id": "6d114405dfa7d859"
  },
  {
   "cell_type": "code",
   "execution_count": 19,
   "outputs": [],
   "source": [
    "jsonfiles_list = s.list_filenames(\"noscemus_spacy_jsons\", \"json\")"
   ],
   "metadata": {
    "collapsed": false,
    "ExecuteTime": {
     "end_time": "2023-11-06T14:20:29.046335Z",
     "start_time": "2023-11-06T14:20:28.649603Z"
    }
   },
   "id": "86a7ae98de89fb2a"
  },
  {
   "cell_type": "code",
   "execution_count": 20,
   "outputs": [
    {
     "data": {
      "text/plain": "['1031760.json']"
     },
     "execution_count": 20,
     "metadata": {},
     "output_type": "execute_result"
    }
   ],
   "source": [
    "jsonfiles_list"
   ],
   "metadata": {
    "collapsed": false,
    "ExecuteTime": {
     "end_time": "2023-11-06T14:20:29.586238Z",
     "start_time": "2023-11-06T14:20:29.572373Z"
    }
   },
   "id": "368a75f6eafe2c74"
  },
  {
   "cell_type": "code",
   "execution_count": 21,
   "outputs": [
    {
     "data": {
      "text/plain": "'1085290.txt'"
     },
     "execution_count": 21,
     "metadata": {},
     "output_type": "execute_result"
    }
   ],
   "source": [
    "filenames_list[1]"
   ],
   "metadata": {
    "collapsed": false,
    "ExecuteTime": {
     "end_time": "2023-11-06T14:20:30.459737Z",
     "start_time": "2023-11-06T14:20:30.440413Z"
    }
   },
   "id": "d794bd12937ef624"
  },
  {
   "cell_type": "markdown",
   "source": [
    "# Text cleaning"
   ],
   "metadata": {
    "collapsed": false
   },
   "id": "b9c619596ad85f34"
  },
  {
   "cell_type": "code",
   "execution_count": 22,
   "outputs": [],
   "source": [
    "filename = filenames_list[1]\n",
    "rawtext = s.read_file(\"noscemus_raw/\" + filename, \"str\")"
   ],
   "metadata": {
    "collapsed": false,
    "ExecuteTime": {
     "end_time": "2023-11-06T14:20:33.514824Z",
     "start_time": "2023-11-06T14:20:31.341939Z"
    }
   },
   "id": "7017739fa2bda3ae"
  },
  {
   "cell_type": "code",
   "execution_count": 23,
   "outputs": [],
   "source": [
    "#@Language.component(\"text_cleaner\")\n",
    "#def text_cleaner(rawtext):\n",
    "#    for token in doc:\n",
    "#        token.norm_ = token.norm_.replace(\"¬\\n\", \"\").replace(\"\\n\", \" \").replace(\"ß\", \"ss\").replace(\"ij\",\"ii\")\n",
    "#    return doc"
   ],
   "metadata": {
    "collapsed": false,
    "ExecuteTime": {
     "end_time": "2023-11-06T14:20:34.241023Z",
     "start_time": "2023-11-06T14:20:34.228665Z"
    }
   },
   "id": "78857e2b46226e6f"
  },
  {
   "cell_type": "code",
   "execution_count": 24,
   "outputs": [],
   "source": [
    "#nlp.add_pipe(\"text_cleaner\", after=\"normer\") \n",
    "#nlp.pipeline                                                          "
   ],
   "metadata": {
    "collapsed": false,
    "ExecuteTime": {
     "end_time": "2023-11-06T14:20:34.509020Z",
     "start_time": "2023-11-06T14:20:34.501431Z"
    }
   },
   "id": "7f5a84e0c1afb909"
  },
  {
   "cell_type": "code",
   "execution_count": 25,
   "outputs": [],
   "source": [
    "def text_cleaner(rawtext):\n",
    "    cleantext = rawtext.replace(\"¬\\n\", \"\").replace(\"\\n\", \" \").replace(\"ß\", \"ss\").replace(\"ij\",\"ii\")\n",
    "    cleantext = \" \".join([t[0] + t[1:].lower() for t in cleantext.split()])\n",
    "    cleantext = re.sub(\"\\s\\s+\", \" \", cleantext)\n",
    "    return cleantext"
   ],
   "metadata": {
    "collapsed": false,
    "ExecuteTime": {
     "end_time": "2023-11-06T14:20:34.810046Z",
     "start_time": "2023-11-06T14:20:34.802846Z"
    }
   },
   "id": "e391f2c7910dba49"
  },
  {
   "cell_type": "code",
   "execution_count": 26,
   "outputs": [],
   "source": [
    "cleantext = text_cleaner(rawtext)"
   ],
   "metadata": {
    "collapsed": false,
    "ExecuteTime": {
     "end_time": "2023-11-06T14:20:35.351456Z",
     "start_time": "2023-11-06T14:20:35.310647Z"
    }
   },
   "id": "bccedcce4cda5b11"
  },
  {
   "cell_type": "code",
   "execution_count": 27,
   "outputs": [
    {
     "data": {
      "text/plain": "'Georg Abraham Mercklini Lindenius Renovatus De Scriptis Medicis Lindenius Renqvatus, Ve S1 Johannis Antonidae van der Linden De Scria Iaumedicis Libridvo. Uorum Prior, Omnium, Tam C Veterum, quàm Recentiorum, Latino idiomate, typis unquam expressorum Scriptorum Medicorum, consummatissimum Catalogum continet; quo indicatur, quid singuli Authores scripserint: nec non ubi, quâ formâ, & quo tempore, omnes eorum Scriptorum Editiones excusae prostent: Posterior verò Cynosuram Medicam, sive, Rerum & Materiarum Indicem, omnium Titulorum vel Thematum Medicorum potiorum Communia Alphabetico hâcque novâ demum Editione primùm adornato ordine suis Lglicita comprehendentem exhibet, ut inquirenti, quicquid desideraverit, velut digito, in multiplicem usum, clarissimè monstretur: Noviter Praeter Haec Addita Plurimorum Authorum, quotquot nempe habere licuit, Vitae Curriculorum succinctâ Descriptione: Adscita undique ab exteris Medicis subsidiariâ ope, propriâque ultra decennium adhibitâ singulari operâ atque curâ à postremae Ed tionis Anne Mdc. Lxii. usque ad prasentem Continuati, dimidio penè amplificati, per plurimùm interpolati, & ab extantioribus mendis purgati à Georgio Abrahamo Mercklino, D. Reipubl. Norimberg. Domûsque Teutonic. ibidem Med. Ord. & Academic. Curios. dict. Chiron. Cum Gratia & Privilegio S. C. Majest. Ooabvv-ii Norimbergae, Impensis Johannis Georgii Endteri. Anno Christi M. Dc. Lxxxvi. Reverendissimo Serenissimo Principi Ac Domino, Domino Ic Ud Fonio Al Generali Militiae Hierosolymitanae Ordinis B. Mariae Teutonicorum, Prussiae Administratori, Ac Ejusdem Per Germaniam, Italiam, Partesque Transmarinas Supremo Magistro, Comiti Palatino Rheni, Bavariae; Juliae, Cliviae, Et Montium Duci, Comiti Veldentiae, Sponhemii, Marchiae, Ravenspergae, Et Morsae, Dynastae In Ravenstein, Freudenthal, Et Eulenberg &c. &c. Principi Et Domino Meo Clementissimo Vitam Et Felicitatem. iu. Reverendissime Ac Serenissime Rinceps, Domine, Domine Clementissime! On nova est, sed ab antiquissimis temporibus eundo ad nos quasi per traducem illa serpit consuetudo, quâ Librorum frontibus Magni Patroni, velut Tutela3 ris Numinis nomen praescribi solet. Hocque tantum abest, ut Ipsi etiam Imperatores, Reges, Electores, Principes, jam olim inclementer tulerint, ut potiùs id ausos haud rarò vultu respexerint serenissimo. ! Quo quidem honore quanquam me dignum aestimare nec velim, nec possim; tanto tamen confidentiùs, horum exemplis animatus, idem tentare vadum & ego conor; quantò notius est, Serenitatis T splendorem saepiùs infra augustale culmen ad vilia etiam radios diffundere. Quae virtus ut Incluti & Christiano orbe Celeberrimi Ordinis Teutonici Magistris Supremis propria & familiarissima est; ita, devolutâ quasi à Majoribus haereditate, Tipi, Serenissime Princeps! prorsus innata. Certè Serenitatis T. Gloriosissimus Antecessor, Johannes Casparus, piissimae memoriae, tantâ comitatis lenita er rur tells l rli Dedicatio. lenitatisque gratia arentem meum, non incelebremme. dicum, piè defunctum, nec minus me quoque immerentissimum dignatus est; ut, ni fatum votum invertisset, Ipsius Celsissimo Nomini idem dicare ausus fuissem quod jam nunc, Illo in coelum recepto, Meritissimo Successori sacrum esse & volo & debeo. Equidem parum aberat, quin à concepto consilio absterreri passus fuissem, veritus, ne inter strenuissima armorum officia, quae, Invictissimo Caesare jubente, induis, ad proletarias chartas parum sis animum attenturus. At enim verò compertum vicissim habetur, Te tantâ temperaturâ miscere negotia, ut & in ipsis castris publicae rei curam geras, & domi non minus, quò Aegide Pallas & Pallade Aegis tuta sit, de castris cogites, simillimus Homerico isti Pelidae, qui inter ipsa armalfides & citharam interposuit. Statui iccirco, quòd diu trepido deliberavi animo, & Reverendissimum Ordinis Caput hoc ipso, per gradus tentato ascensu, mihi propitiare molior; postquam Generosissimis aliquot Illius Membris meâ qualicunque Arte Medicâ hactenus aliquantùm innotescere mihi licuit. Suscipe igitur, Serenissime Princeps! serenâ fronte, quod humillimâ manu, flexoque genu, ad pedes Tuos depono, vile hocce Opus, ceu in aevum duraturum pignus submissis simae venerationis, fideique, cultus, atque aeterni obsequii: pio cum voto sociatum, quod inter con ) ( Dedicatio. congratulantium de felici regimine Applausorum multitudinem postremus quidem fortè, non tamen, det Deus, vanus, pro vitâ, salute & perenni incolumitate calido pectore fundo: Supremum insimul Numen devotissimâ mente venerans, ut, quemadmodum Excelsissimi Ordinis Teutonici clavum bono fato & optatis auspiciis ipso aetatis flore, quo, (majorum exemplo) aetatem Tuam antevertis, regere haud ita pridem coepisti; sic felix faustusque in feros superes annos, quò Eidem pari animi magnitudine, fortitudine & prudentiâ praeesse possis, quoad ipse perstabit, hoc est, usque ad illum diem, qui hoc hauriet universum, idque tantâ virium integritate, & prosperrimae valetudinis constantiâ, ut cum Hygeia in gratiam redire nunquam opus habeas; quod à tenui licèt Medico, bono tamen omine, fusum votum irritum ne sinat esse Deus. Serenitati T. hiliona Dirdoum Ix. Id. Martii M. Dc. Lxxxvi. devotissimus Georg. Abraham: Mercklinus, D. Reipubl. Norimberg. Domusque Teutonic. ibidem Medicus ord & Academ. Curios. dict. Chiron. Bol Oi E Benevolo Salutem Et Officia. Eqiie novi exempli Liber iste, neque paenitendi laboris, aut fructus contemnendi est. Exemplo fuere nobis (ut Veteres taceam, & πολυγράφοῳ Gesnerum, & qui praeterea per Somne genus Scriptorum sese è Recentioribus diffuderunt) Jothannes Georg. Schenkius, Israel Spachius, & Paschalis Gallus. & Vam hi serè soli meruere, quidquid hinc in re Medica laudis. C Cujus praeconem velle me, non praedonem esse, testatus sum hoc ipso olim Opere, & iterum iterumque testor. Quod cùm è paterna primum Bibliotheca privatim mihi conscriberem, animadverteremque in quantum numerum excrevissent Auctores, quorum monumenta nec viderant illi, nec vidisse poterant, coepi consilium, eandem his conciliandi lucem, quam prioribus alii. Quo autem majore id cum fructu efficerem, non putavi satis referre, quid quisque in Medicina ediderit, ubi, apud quem, quando, quâ formâ: sed expedire studiis promovendis, quam singuli materiam aut plures tractaverint, ostendi. Feci igitur altero Libro. In quo praemitto, quae ad Medicinam ac Medicum in genere: mox quae ad singulas partes: Theoretica semper primùm, inde Practica, ut usus est vocare, & distinguere. Est tamen, ubi altera in alteris requiras. Videtur id molestiae nonnihil habere, & potui vitare titulorum repetitione. Sed quid opus? cum è praecedente Libro & Librorum ibi inscriptionibus expedire se possit, quisquis in hoc haeret. Illius ordinem Abecedarium feci & plusquam obvium, ne vel Tyrones haercant. Quibus cum saepe praenomina sint incognita, ne & heic ipsis mora fiat, subjunxi illius è cognomine Indicem. Haec forma Operis. Cujus quàm me poenitere non debeat, videtur exemplarium; sat bono numero primâ, iterumque, & majore, secundâ vice editorum, distractio testari. Ea certe Typographum movit, ut, quamvis Reipubulicae cura, Senatu, Scabinatu, alia occupatissimus, noluerit tamen studio suo erga rem literariam deesse, neque quem carere Libro communi velut applausu totiens approbato. Ego verò, posteaquam vidi, laborem meum publico gratum, debus neque ingratus erga alios, neque in memetipsum ) Praefatio Lindenii. Plum murius esse. Hic suturius eram, si vrvus alteri facerem curam, augendi & supplendi hoc Opus. Ide, si non pari promptitudine ac propensione orbi successorum merita exponerem, quâ superiorum iam proposuissem. Quo animo cum sim non possum non aegre habere, etiam hac editione non paucos praetermitti, quos inseri vel nunc oportuit. Quamvis enim haud parvam continuò diligentiam adhibuerim, nequivi tamen omnium, quos desideravi, titulos nancisci, etiam in amplissimam urbem & celeberrimam Academiam interque medios atque instructissimos Bibliopolas translatus. Qua in re ron parum me mea spes sefellit. Neque tamen refert, caussas referre, quas aut scire puto aut ex facili posse, quotquot frequentare illos solent. Quamobrem denuo rogo Viros omnes doctos, & quos amplificandae rei Medicae tenet amor, ut haut gravate velint suo me auxilio & publica commoda adjuvare, ac significare, quaqua ratione, si quid, quod ad Artem nostram pertineat, mihi quidem, sed dolenti praeteritum, noverint in lucem exivisse. Secundam editionem quam luculentis tunc Catalogis, & quidem suapte sponte ad me transmissis auctum iverint Viri Clarissimi, D. Claudius Doresmieux, Insulis, D. Robert. Farvacius, Bruxellis, D. Petrus Neurat, Matriti, D. Nicolaus de Vitte, Rigae Livonorum, Medicinam quisque summa cum laude factitantes, ibi exposui, animique grati signifiquod exemplum si vel unus quicationem edidi, certe edere omnino volui. jam non modo, quod olim volui ac spiam fuisset in quaque natione imitatus, vovi, fuisset hoc πλεόνων δὲ τοι ἔργεν ἄμεινεν, sed absolutum, adeoque omnium benè de Arte Medica meritorum memoriâ, atque laude instructssimum, omnibusque suis numeris tantum non perfectum. Interea etiam haec editio non destituitur, quibus acceptum cùm supplementa, tum adjumenta referat quàm maxima. Et supplementa quidem habet ab Excellentissimo D. Guidone Patino, Doctore Medico Parisiensi ac Professore Reglo, Viro, supra quàm aut dici queat aut quis, nisi experiens credat, nato ad fovendum bonos & Artes bonas, ac mihi praeter modum & meritum Amico. Habet itidem ab Celeberrimo Viro, D. Iohanne van Horne, Medicinae Doctore & Anatomes ac Chirurgices Professore Eximio, Collegâ conjunctissimo. Habet ab Eruditissimo D. Carolo Offredo, Doctore Medico Patavino. Habet denique ab Experientissimo D. Gabriele Claudero, Doctore Medico Altenburgensi. Adjumenta vero ab Praestantissimis Medicinae Mystis D. Theodoro Colbio) Regiomontano, & D. Conrado van Hoeven, Bremensi. Quibus omnibus pro suo studio atque labore, quo Opus hoc tam liberaliter locupletare atque exornare sunt dignatis plurimum d'"
     },
     "execution_count": 27,
     "metadata": {},
     "output_type": "execute_result"
    }
   ],
   "source": [
    "cleantext[:10000]"
   ],
   "metadata": {
    "collapsed": false,
    "ExecuteTime": {
     "end_time": "2023-11-06T14:20:36.346444Z",
     "start_time": "2023-11-06T14:20:36.333479Z"
    }
   },
   "id": "6b66baf497b31c10"
  },
  {
   "cell_type": "code",
   "execution_count": 28,
   "outputs": [
    {
     "data": {
      "text/plain": "Georg Abraham Mercklini Lindenius Renovatus De Scriptis Medicis Lindenius Renqvatus, Ve S1 Johannis Antonidae van der Linden De Scria Iaumedicis Libridvo. Uorum Prior, Omnium, Tam C Veterum, quàm Recentiorum, Latino idiomate, typis unquam expressorum Scriptorum Medicorum, consummatissimum Catalogum continet; quo indicatur, quid singuli Authores scripserint: nec non ubi, quâ formâ, & quo tempore, omnes eorum Scriptorum Editiones excusae prostent: Posterior verò Cynosuram Medicam, sive, Rerum & Materiarum Indicem, omnium Titulorum vel Thematum Medicorum potiorum Communia Alphabetico hâcque novâ demum Editione primùm adornato ordine suis Lglicita comprehendentem exhibet, ut inquirenti, quicquid desideraverit, velut digito, in multiplicem usum, clarissimè monstretur: Noviter Praeter Haec Addita Plurimorum Authorum, quotquot nempe habere licuit, Vitae Curriculorum succinctâ Descriptione: Adscita undique ab exteris Medicis subsidiariâ ope, propriâque ultra decennium adhibitâ singulari operâ atque curâ à postremae Ed tionis Anne Mdc. Lxii. usque ad prasentem Continuati, dimidio penè amplificati, per plurimùm interpolati, & ab extantioribus mendis purgati à Georgio Abrahamo Mercklino, D. Reipubl. Norimberg. Domûsque Teutonic. ibidem Med. Ord. & Academic. Curios. dict. Chiron. Cum Gratia & Privilegio S. C. Majest. Ooabvv-ii Norimbergae, Impensis Johannis Georgii Endteri. Anno Christi M. Dc. Lxxxvi. Reverendissimo Serenissimo Principi Ac Domino, Domino Ic Ud Fonio Al Generali Militiae Hierosolymitanae Ordinis B. Mariae Teutonicorum, Prussiae Administratori, Ac Ejusdem Per Germaniam, Italiam, Partesque Transmarinas Supremo Magistro, Comiti Palatino Rheni, Bavariae; Juliae, Cliviae, Et Montium Duci, Comiti Veldentiae, Sponhemii, Marchiae, Ravenspergae, Et Morsae, Dynastae In Ravenstein, Freudenthal, Et Eulenberg &c. &c. Principi Et Domino Meo Clementissimo Vitam Et Felicitatem. iu. Reverendissime Ac Serenissime Rinceps, Domine, Domine Clementissime! On nova est, sed ab antiquissimis temporibus eundo ad nos quasi per traducem illa serpit consuetudo, quâ Librorum frontibus Magni Patroni, velut Tutela3 ris Numinis nomen praescribi solet. Hocque tantum abest, ut Ipsi etiam Imperatores, Reges, Electores, Principes, jam olim inclementer tulerint, ut potiùs id ausos haud rarò vultu respexerint serenissimo. ! Quo quidem honore quanquam me dignum aestimare nec velim, nec possim; tanto tamen confidentiùs, horum exemplis animatus, idem tentare vadum & ego conor; quantò notius est, Serenitatis T splendorem saepiùs infra augustale culmen ad vilia etiam radios diffundere. Quae virtus ut Incluti & Christiano orbe Celeberrimi Ordinis Teutonici Magistris Supremis propria & familiarissima est; ita, devolutâ quasi à Majoribus haereditate, Tipi, Serenissime Princeps! prorsus innata. Certè Serenitatis T. Gloriosissimus Antecessor, Johannes Casparus, piissimae memoriae, tantâ comitatis lenita er rur tells l rli Dedicatio. lenitatisque gratia arentem meum, non incelebremme. dicum, piè defunctum, nec minus me quoque immerentissimum dignatus est; ut, ni fatum votum invertisset, Ipsius Celsissimo Nomini idem dicare ausus fuissem quod jam nunc, Illo in coelum recepto, Meritissimo Successori sacrum esse & volo & debeo. Equidem parum aberat, quin à concepto consilio absterreri passus fuissem, veritus, ne inter strenuissima armorum officia, quae, Invictissimo Caesare jubente, induis, ad proletarias chartas parum sis animum attenturus. At enim verò compertum vicissim habetur, Te tantâ temperaturâ miscere negotia, ut & in ipsis castris publicae rei curam geras, & domi non minus, quò Aegide Pallas & Pallade Aegis tuta sit, de castris cogites, simillimus Homerico isti Pelidae, qui inter ipsa armalfides & citharam interposuit. Statui iccirco, quòd diu trepido deliberavi animo, & Reverendissimum Ordinis Caput hoc ipso, per gradus tentato ascensu, mihi propitiare molior; postquam Generosissimis aliquot Illius Membris meâ qualicunque Arte Medicâ hactenus aliquantùm innotescere mihi licuit. Suscipe igitur, Serenissime Princeps! serenâ fronte, quod humillimâ manu, flexoque genu, ad pedes Tuos depono, vile hocce Opus, ceu in aevum duraturum pignus submissis simae venerationis, fideique, cultus, atque aeterni obsequii: pio cum voto sociatum, quod inter con ) ( Dedicatio. congratulantium de felici regimine Applausorum multitudinem postremus quidem fortè, non tamen, det Deus, vanus, pro vitâ, salute & perenni incolumitate calido pectore fundo: Supremum insimul Numen devotissimâ mente venerans, ut, quemadmodum Excelsissimi Ordinis Teutonici clavum bono fato & optatis auspiciis ipso aetatis flore, quo, (majorum exemplo) aetatem Tuam antevertis, regere haud ita pridem coepisti; sic felix faustusque in feros superes annos, quò Eidem pari animi magnitudine, fortitudine & prudentiâ praeesse possis, quoad ipse perstabit, hoc est, usque ad illum diem, qui hoc hauriet universum, idque tantâ virium integritate, & prosperrimae valetudinis constantiâ, ut cum Hygeia in gratiam redire nunquam opus habeas; quod à tenui licèt Medico, bono tamen omine, fusum votum irritum ne sinat esse Deus. Serenitati T. hiliona Dirdoum Ix. Id. Martii M. Dc. Lxxxvi. devotissimus Georg. Abraham: Mercklinus, D. Reipubl. Norimberg. Domusque Teutonic. ibidem Medicus ord & Academ. Curios. dict. Chiron. Bol Oi E Benevolo Salutem Et Officia. Eqiie novi exempli Liber iste, neque paenitendi laboris, aut fructus contemnendi est. Exemplo fuere nobis (ut Veteres taceam, & πολυγράφοῳ Gesnerum, & qui praeterea per Somne genus Scriptorum sese è Recentioribus diffuderunt) Jothannes Georg. Schenkius, Israel Spachius, & Paschalis Gallus. & Vam hi serè soli meruere, quidquid hinc in re Medica laudis. C Cujus praeconem velle me, non praedonem esse, testatus sum hoc ipso olim Opere, & iterum iterumque testor. Quod cùm è paterna primum Bibliotheca privatim mihi conscriberem, animadverteremque in quantum numerum excrevissent Auctores, quorum monumenta nec viderant illi, nec vidisse poterant, coepi consilium, eandem his conciliandi lucem, quam prioribus alii. Quo autem majore id cum fructu efficerem, non putavi satis referre, quid quisque in Medicina ediderit, ubi, apud quem, quando, quâ formâ: sed expedire studiis promovendis, quam singuli materiam aut plures tractaverint, ostendi. Feci igitur altero Libro. In quo praemitto, quae ad Medicinam ac Medicum in genere: mox quae ad singulas partes: Theoretica semper primùm, inde Practica, ut usus est vocare, & distinguere. Est tamen, ubi altera in alteris requiras. Videtur id molestiae nonnihil habere, & potui vitare titulorum repetitione. Sed quid opus? cum è praecedente Libro & Librorum ibi inscriptionibus expedire se possit, quisquis in hoc haeret. Illius ordinem Abecedarium feci & plusquam obvium, ne vel Tyrones haercant. Quibus cum saepe praenomina sint incognita, ne & heic ipsis mora fiat, subjunxi illius è cognomine Indicem. Haec forma Operis. Cujus quàm me poenitere non debeat, videtur exemplarium; sat bono numero primâ, iterumque, & majore, secundâ vice editorum, distractio testari. Ea certe Typographum movit, ut, quamvis Reipubulicae cura, Senatu, Scabinatu, alia occupatissimus, noluerit tamen studio suo erga rem literariam deesse, neque quem carere Libro communi velut applausu totiens approbato. Ego verò, posteaquam vidi, laborem meum publico gratum, debus neque ingratus erga alios, neque in memetipsum ) Praefatio Lindenii. Plum murius esse. Hic suturius eram, si vrvus alteri facerem curam, augendi & supplendi hoc Opus. Ide, si non pari promptitudine ac propensione orbi successorum merita exponerem, quâ superiorum iam proposuissem. Quo animo cum sim non possum non aegre habere, etiam hac editione non paucos praetermitti, quos inseri vel nunc oportuit. Quamvis enim haud parvam continuò diligentiam adhibuerim, nequivi tamen omnium, quos desideravi, titulos nancisci, etiam in amplissimam urbem & celeberrimam Academiam interque medios atque instructissimos Bibliopolas translatus. Qua in re ron parum me mea spes sefellit. Neque tamen refert, caussas referre, quas aut scire puto aut ex facili posse, quotquot frequentare illos solent. Quamobrem denuo rogo Viros omnes doctos, & quos amplificandae rei Medicae tenet amor, ut haut gravate velint suo me auxilio & publica commoda adjuvare, ac significare, quaqua ratione, si quid, quod ad Artem nostram pertineat, mihi quidem, sed dolenti praeteritum, noverint in lucem exivisse. Secundam editionem quam luculentis tunc Catalogis, & quidem suapte sponte ad me transmissis auctum iverint Viri Clarissimi, D. Claudius Doresmieux, Insulis, D. Robert. Farvacius, Bruxellis, D. Petrus Neurat, Matriti, D. Nicolaus de Vitte, Rigae Livonorum, Medicinam quisque summa cum laude factitantes, ibi exposui, animique grati signifiquod exemplum si vel unus quicationem edidi, certe edere omnino volui. jam non modo, quod olim volui ac spiam fuisset in quaque natione imitatus, vovi, fuisset hoc πλεόνων δὲ τοι ἔργεν ἄμεινεν, sed absolutum, adeoque omnium benè de Arte Medica meritorum memoriâ, atque laude instructssimum, omnibusque suis numeris tantum non perfectum. Interea etiam haec editio non destituitur, quibus acceptum cùm supplementa, tum adjumenta referat quàm maxima. Et supplementa quidem habet ab Excellentissimo D. Guidone Patino, Doctore Medico Parisiensi ac Professore Reglo, Viro, supra quàm aut dici queat aut quis, nisi experiens credat, nato ad fovendum bonos & Artes bonas, ac mihi praeter modum & meritum Amico. Habet itidem ab Celeberrimo Viro, D. Iohanne van Horne, Medicinae Doctore & Anatomes ac Chirurgices Professore Eximio, Collegâ conjunctissimo. Habet ab Eruditissimo D. Carolo Offredo, Doctore Medico Patavino. Habet denique ab Experientissimo D. Gabriele Claudero, Doctore Medico Altenburgensi. Adjumenta vero ab Praestantissimis Medicinae Mystis D. Theodoro Colbio) Regiomontano, & D. Conrado van Hoeven, Bremensi. Quibus omnibus pro suo studio atque labore, quo Opus hoc tam liberaliter locupletare atque exornare sunt dignatis plurimum d"
     },
     "execution_count": 28,
     "metadata": {},
     "output_type": "execute_result"
    }
   ],
   "source": [
    "doc = nlp(cleantext[:10000])\n",
    "doc"
   ],
   "metadata": {
    "collapsed": false,
    "ExecuteTime": {
     "end_time": "2023-11-06T14:20:37.552653Z",
     "start_time": "2023-11-06T14:20:36.973802Z"
    }
   },
   "id": "506e2c0c66c267d9"
  },
  {
   "cell_type": "markdown",
   "source": [
    "# working with large files - development"
   ],
   "metadata": {
    "collapsed": false
   },
   "id": "27163097305f5525"
  },
  {
   "cell_type": "code",
   "execution_count": 30,
   "outputs": [],
   "source": [
    "cleantext = cleantext[:380000]"
   ],
   "metadata": {
    "collapsed": false,
    "ExecuteTime": {
     "end_time": "2023-11-06T14:20:59.138564Z",
     "start_time": "2023-11-06T14:20:59.070760Z"
    }
   },
   "id": "a56ad18c89cfd094"
  },
  {
   "cell_type": "code",
   "execution_count": 31,
   "outputs": [
    {
     "name": "stdout",
     "output_type": "stream",
     "text": [
      "100000\n",
      "200000\n",
      "300000\n"
     ]
    }
   ],
   "source": [
    "# segments docs\n",
    "segment_docs = []\n",
    "segment_len = 100000\n",
    "if len(cleantext) > segment_len:\n",
    "    parts = cleantext[:segment_len].rpartition(\". \")\n",
    "    current_segment = parts[0] + parts[1]\n",
    "    segment_doc = nlp(current_segment)\n",
    "    segment_docs.append(segment_doc)\n",
    "    next_segment_beginning = parts[2]\n",
    "    for n in range(segment_len, len(cleantext), segment_len):\n",
    "        print(n)\n",
    "        segment = cleantext[n:n+segment_len]\n",
    "        if len(segment) == segment_len: \n",
    "            parts = cleantext[n:n+segment_len].rpartition(\". \")\n",
    "            current_segment = parts[0] + parts[1]\n",
    "            segment_doc = nlp(next_segment_beginning + current_segment)\n",
    "            next_segment_beginning = parts[2]\n",
    "        else:\n",
    "            segment_doc = nlp(segment)\n",
    "        segment_docs.append(segment_doc)\n",
    "    doc = Doc.from_docs(segment_docs)\n",
    "else:\n",
    "    doc = nlp(cleantext)"
   ],
   "metadata": {
    "collapsed": false,
    "ExecuteTime": {
     "end_time": "2023-11-06T14:21:27.540969Z",
     "start_time": "2023-11-06T14:21:04.140994Z"
    }
   },
   "id": "932b1176a1a55893"
  },
  {
   "cell_type": "code",
   "execution_count": 32,
   "outputs": [],
   "source": [
    "doc = Doc.from_docs(segment_docs)"
   ],
   "metadata": {
    "collapsed": false,
    "ExecuteTime": {
     "end_time": "2023-11-06T14:21:27.623574Z",
     "start_time": "2023-11-06T14:21:27.555258Z"
    }
   },
   "id": "8691c44275ae1109"
  },
  {
   "cell_type": "code",
   "execution_count": 33,
   "outputs": [
    {
     "data": {
      "text/plain": "'nica Roberti Boylei, de Vi Aeris elastico, & ejusdem effectibus; quibus Observata illius rationibus Philosophicis, omni Vacuum, ipsumque elaterem Aeris Pecquetianum arcentibus, illustrantur. Gröningae'"
     },
     "execution_count": 33,
     "metadata": {},
     "output_type": "execute_result"
    }
   ],
   "source": [
    "cleantext[199900:200100]"
   ],
   "metadata": {
    "collapsed": false,
    "ExecuteTime": {
     "end_time": "2023-11-06T14:21:27.626324Z",
     "start_time": "2023-11-06T14:21:27.622197Z"
    }
   },
   "id": "4974474b3cc715d5"
  },
  {
   "cell_type": "code",
   "execution_count": 34,
   "outputs": [
    {
     "data": {
      "text/plain": "'nica Roberti Boylei, de Vi Aeris elastico, & ejusdem effectibus; quibus Observata illius rationibus Philosophicis, omni Vacuum, ipsumque elaterem Aeris Pecquetianum arcentibus, illustrantur. Gröningae'"
     },
     "execution_count": 34,
     "metadata": {},
     "output_type": "execute_result"
    }
   ],
   "source": [
    "doc.text[199900:200100]"
   ],
   "metadata": {
    "collapsed": false,
    "ExecuteTime": {
     "end_time": "2023-11-06T14:21:27.664907Z",
     "start_time": "2023-11-06T14:21:27.626571Z"
    }
   },
   "id": "4bbb006db66be067"
  },
  {
   "cell_type": "code",
   "execution_count": 36,
   "outputs": [],
   "source": [
    "# lets encapsulate the cleaning and spacy pipeline application into one function\n",
    "def from_rawtext_to_doc(rawtext):\n",
    "    cleantext = text_cleaner(rawtext)\n",
    "    segment_len = 800000\n",
    "    if len(cleantext) > segment_len:\n",
    "        segment_docs = []\n",
    "        parts = cleantext[:segment_len].rpartition(\". \")\n",
    "        current_segment = parts[0] + parts[1]\n",
    "        segment_doc = nlp(current_segment)\n",
    "        segment_docs.append(segment_doc)\n",
    "        next_segment_beginning = parts[2]\n",
    "        for n in range(segment_len, len(cleantext), segment_len):\n",
    "            print(n)\n",
    "            segment = cleantext[n:n+segment_len]\n",
    "            if len(segment) == segment_len:\n",
    "                parts = cleantext[n:n+segment_len].rpartition(\". \")\n",
    "                current_segment = parts[0] + parts[1]\n",
    "                segment_doc = nlp(next_segment_beginning + current_segment)\n",
    "                next_segment_beginning = parts[2]\n",
    "            else:\n",
    "                segment_doc = nlp(segment)\n",
    "            segment_docs.append(segment_doc)\n",
    "        doc = Doc.from_docs(segment_docs)\n",
    "    else:\n",
    "        doc = nlp(cleantext)\n",
    "    return doc"
   ],
   "metadata": {
    "collapsed": false,
    "ExecuteTime": {
     "end_time": "2023-11-06T14:21:50.932536Z",
     "start_time": "2023-11-06T14:21:50.869305Z"
    }
   },
   "id": "a45173f79f1c7413"
  },
  {
   "cell_type": "markdown",
   "source": [
    "# Applying the function"
   ],
   "metadata": {
    "collapsed": false
   },
   "id": "6faca3312f480753"
  },
  {
   "cell_type": "code",
   "execution_count": 37,
   "outputs": [],
   "source": [
    "# input text files\n",
    "filenames_list = s.list_filenames(\"noscemus_raw\", \"txt\")"
   ],
   "metadata": {
    "collapsed": false,
    "ExecuteTime": {
     "end_time": "2023-11-06T14:21:57.280511Z",
     "start_time": "2023-11-06T14:21:56.081417Z"
    }
   },
   "id": "66f6799e90e94c6f"
  },
  {
   "cell_type": "code",
   "execution_count": 38,
   "outputs": [
    {
     "data": {
      "text/plain": "[]"
     },
     "execution_count": 38,
     "metadata": {},
     "output_type": "execute_result"
    }
   ],
   "source": [
    "# output jsonfiles\n",
    "target_folder_name = \"noscemus_spacyjsons_v1\"\n",
    "jsonfiles_list = s.list_filenames(target_folder_name, \"json\")\n",
    "jsonfiles_list[:10]"
   ],
   "metadata": {
    "collapsed": false,
    "ExecuteTime": {
     "end_time": "2023-11-06T14:21:57.636016Z",
     "start_time": "2023-11-06T14:21:57.281704Z"
    }
   },
   "id": "19ce9aabe1147398"
  },
  {
   "cell_type": "code",
   "execution_count": 39,
   "outputs": [
    {
     "data": {
      "text/plain": "0"
     },
     "execution_count": 39,
     "metadata": {},
     "output_type": "execute_result"
    }
   ],
   "source": [
    "len(jsonfiles_list)"
   ],
   "metadata": {
    "collapsed": false,
    "ExecuteTime": {
     "end_time": "2023-11-06T14:22:03.281650Z",
     "start_time": "2023-11-06T14:22:03.267331Z"
    }
   },
   "id": "b6767b7ddeab75b"
  },
  {
   "cell_type": "code",
   "execution_count": null,
   "outputs": [],
   "source": [
    "%%time\n",
    "%%capture\n",
    "for n, filename in enumerate(filenames_list):\n",
    "    if n in range(0, len(filenames_list), 50):\n",
    "        print(n)\n",
    "    try:\n",
    "        new_filename = filename.partition(\".\")[0] + \".json\"\n",
    "        if new_filename not in jsonfiles_list:\n",
    "            rawtext = s.read_file(\"noscemus_raw/\" + filename, \"str\")\n",
    "            doc = from_rawtext_to_doc(rawtext)\n",
    "            doc_json = doc.to_json()\n",
    "            s.write_file(target_folder_name + \"/\" + new_filename, doc_json)\n",
    "    except:\n",
    "        pass"
   ],
   "metadata": {
    "collapsed": false,
    "is_executing": true,
    "ExecuteTime": {
     "start_time": "2023-11-06T14:22:06.659786Z"
    }
   },
   "id": "162ae851157c7c00"
  },
  {
   "cell_type": "code",
   "execution_count": 51,
   "outputs": [
    {
     "data": {
      "text/plain": "['1031760.json']"
     },
     "execution_count": 51,
     "metadata": {},
     "output_type": "execute_result"
    }
   ],
   "source": [
    "jsonfiles_list"
   ],
   "metadata": {
    "collapsed": false,
    "ExecuteTime": {
     "end_time": "2023-11-03T10:43:33.188308Z",
     "start_time": "2023-11-03T10:43:33.176732Z"
    }
   },
   "id": "820b71850d0e9653"
  },
  {
   "cell_type": "code",
   "execution_count": 92,
   "outputs": [],
   "source": [
    "all_sents_lemmata = []\n",
    "for sent in doc.sents:\n",
    "    sent_lemmata = []\n",
    "    for token in sent:\n",
    "        #if token.pos_ in [\"NOUN\", \"VERB\", \"ADJ\"]:\n",
    "        sent_lemmata.append((token.text, token.lemma_))\n",
    "    all_sents_lemmata.append(sent_lemmata)"
   ],
   "metadata": {
    "collapsed": false,
    "ExecuteTime": {
     "end_time": "2023-11-03T11:14:33.433342Z",
     "start_time": "2023-11-03T11:14:33.401169Z"
    }
   },
   "id": "f66cb8dbd6039d3"
  },
  {
   "cell_type": "code",
   "execution_count": 93,
   "outputs": [
    {
     "data": {
      "text/plain": "[[('Adeò', 'Adeò'),\n  ('vt', 'vt'),\n  ('Tempus', 'Tempus'),\n  (',', ','),\n  ('tanquàm', 'tanquàm'),\n  ('fluuius', 'fluuius'),\n  (',', ','),\n  ('leuia', 'leuis'),\n  ('&', '&'),\n  ('inflata', 'inflo'),\n  ('ad', 'ad'),\n  ('nos', 'nos'),\n  ('deuexerit', 'deuixio'),\n  (',', ','),\n  ('grauia', 'grauis'),\n  ('&', '&'),\n  ('solida', 'solidus'),\n  ('demerserit', 'demerserit'),\n  ('.', '.')],\n [('Quin', 'quin'),\n  ('&', '&'),\n  ('illi', 'ille'),\n  ('ipsi', 'ipse'),\n  ('authores', 'author'),\n  (',', ','),\n  ('qui', 'qui'),\n  ('dictaturam', 'dictatura'),\n  ('quandam', 'quidam'),\n  ('in', 'in'),\n  ('Scientiis', 'Scientia'),\n  ('inuaserunt', 'inuasero'),\n  (',', ','),\n  ('&', '&'),\n  ('tantà', 'tantà'),\n  ('confidentia', 'confidentia'),\n  ('de', 'de'),\n  ('rebus', 'res'),\n  ('pronuntiant', 'pronuntio'),\n  (';', ';'),\n  ('cum', 'cum'),\n  ('tamen', 'tamen'),\n  ('per', 'per'),\n  ('interualla', 'interuallum'),\n  ('ad', 'ad'),\n  ('se', 'se'),\n  ('redeunt', 'redeo'),\n  (',', ','),\n  ('ad', 'ad'),\n  ('querimonias', 'querimonia'),\n  ('de', 'de'),\n  ('subtilitate', 'subtilitas'),\n  ('Naturae', 'Naturaa'),\n  (',', ','),\n  ('veritatis', 'ueritas'),\n  ('recessibus', 'recessus'),\n  (',', ','),\n  ('rerum', 'res'),\n  ('obscuritate', 'obscuritas'),\n  (',', ','),\n  ('Causarum', 'Causa'),\n  ('implicatione', 'implicatio'),\n  (',', ','),\n  ('ingeni', 'ingenum'),\n  ('humani', 'humanus'),\n  ('infirmitate', 'infirmitas'),\n  (',', ','),\n  ('se', 'se'),\n  ('conuertunt', 'conuerto'),\n  (':', ':'),\n  ('In', 'in'),\n  ('hoc', 'hic'),\n  ('nihilò', 'nihilòs'),\n  ('tamen', 'tamen'),\n  ('modestiores', 'modestus'),\n  (',', ','),\n  ('cùm', 'cùm'),\n  ('malint', 'malint'),\n  ('communem', 'communis'),\n  ('hominum', 'homo'),\n  ('&', '&'),\n  ('rerum', 'res'),\n  ('conditionem', 'conditio'),\n  ('causari', 'causo'),\n  (',', ','),\n  ('quàm', 'quàm'),\n  ('de', 'de'),\n  ('seipsis', 'seipsum'),\n  ('confiteri', 'confiteor'),\n  ('.', '.')],\n [('Quin', 'quin'),\n  ('illis', 'ille'),\n  ('hoc', 'hic'),\n  ('ferè', 'ferè'),\n  ('solenne', 'solenne'),\n  ('est', 'sum'),\n  (',', ','),\n  ('vt', 'vt'),\n  ('quicquid', 'quisquis'),\n  ('Ars', 'Ars'),\n  ('aliqua', 'aliquis'),\n  ('non', 'non'),\n  ('attingat', 'attingo'),\n  (',', ','),\n  ('id', 'is'),\n  ('ipsum', 'ipse'),\n  ('ex', 'ex'),\n  ('eâdem', 'eâdem'),\n  ('arte', 'ars'),\n  ('impossibile', 'impossibilis'),\n  ('esse', 'sum'),\n  ('statuant', 'statuo'),\n  ('.', '.')],\n [('Neque', 'neque'),\n  ('verò', 'verò'),\n  ('damnari', 'damno'),\n  ('potest', 'possum'),\n  ('Ars', 'ars'),\n  (',', ','),\n  ('quùm', 'quùm'),\n  ('ipsa', 'ipse'),\n  ('disceptet', 'discepto'),\n  (',', ','),\n  ('&', '&'),\n  ('iudicet', 'iudico'),\n  ('.', '.')],\n [('Itaque', 'itaque'),\n  ('id', 'is'),\n  ('agitur', 'ago'),\n  (',', ','),\n  ('vt', 'vt'),\n  ('ignorantia', 'ignorantia'),\n  ('etiam', 'etiam'),\n  ('ab', 'ab'),\n  ('ignominià', 'ignominià'),\n  ('liberetur', 'libero'),\n  ('.', '.')],\n [('Atque', 'atque'),\n  ('quae', 'qui'),\n  ('tradita', 'trado'),\n  ('&', '&'),\n  ('recepta', 'recipio'),\n  ('sunt', 'sum'),\n  (',', ','),\n  ('ad', 'ad'),\n  ('hunc', 'hic'),\n  ('ferè', 'ferè'),\n  ('modum', 'modus'),\n  ('se', 'se'),\n  ('habent', 'habeo'),\n  (':', ':'),\n  ('quoad', 'quoad'),\n  ('opera', 'opus'),\n  ('sterilia', 'sterilis'),\n  (',', ','),\n  ('quaestionum', 'quaestio'),\n  ('plena', 'plenus'),\n  (',', ','),\n  ('incrementis', 'incrementum'),\n  ('suis', 'suus'),\n  ('tarda', 'tardus'),\n  ('&', '&'),\n  ('languida', 'languidus'),\n  (';', ';')],\n [('perfectionem', 'perfectio'),\n  ('in', 'in'),\n  ('toto', 'totus'),\n  ('simulantia', 'simulantia'),\n  (',', ','),\n  ('sed', 'sed'),\n  ('per', 'per'),\n  ('partes', 'pars'),\n  ('malè', 'malè'),\n  ('impleta', 'impleo'),\n  (';', ';')],\n [('delectu', 'delectus'),\n  ('autem', 'autem'),\n  ('popularia', 'popularis'),\n  (',', ','),\n  ('&', '&'),\n  ('authoribus', 'author'),\n  ('ipsis', 'ipse'),\n  ('suspecta', 'suspectus'),\n  (',', ','),\n  ('ideo', 'ideo'),\n  ('que', 'que'),\n  ('artificiis', 'artificium'),\n  ('quibusdam', 'quidam'),\n  ('munita', 'munitus'),\n  (',', ','),\n  ('&', '&'),\n  ('ostentata', 'ostento'),\n  ('.', '.')],\n [('Qui', 'qui'),\n  ('autem', 'autem'),\n  ('&', '&'),\n  ('ipsi', 'ipse'),\n  ('experiri', 'experior'),\n  (',', ','),\n  ('&', '&'),\n  ('se', 'se'),\n  ('Scientiis', 'Scientia'),\n  ('addere', 'addo'),\n  (',', ','),\n  ('earum', 'is'),\n  ('que', 'que'),\n  ('fines', 'finis'),\n  ('proferre', 'profero'),\n  ('statuerunt', 'statuo'),\n  (',', ','),\n  ('nec', 'nec'),\n  ('illi', 'ille'),\n  ('à', 'à'),\n  ('receptis', 'receptum'),\n  ('prorsus', 'prorsus'),\n  ('desciscere', 'desciscio'),\n  ('ausi', 'audeo'),\n  ('sunt', 'sum'),\n  ('nec', 'neque'),\n  ('fontes', 'fons'),\n  ('rerum', 'res'),\n  ('petere', 'peto'),\n  ('.', '.')],\n [('Verùm', 'Verùm'),\n  ('se', 'se'),\n  ('magnum', 'magnus'),\n  ('quiddam', 'quidam'),\n  ('consequutos', 'consequutos'),\n  ('putant', 'puto'),\n  (',', ','),\n  ('si', 'si'),\n  ('aliquid', 'aliquis'),\n  ('ex', 'ex'),\n  ('proprio', 'proprius'),\n  ('inserant', 'inssero'),\n  (',', ','),\n  ('&', '&'),\n  ('adiiciant', 'adiicio'),\n  (';', ';'),\n  ('prudenter', 'prudenter'),\n  ('secum', 'sui cum'),\n  ('reputantes', 'reputo'),\n  (',', ','),\n  ('se', 'se'),\n  ('in', 'in'),\n  ('assentiendo', 'assentio'),\n  ('A', 'a'),\n  ('3', '3'),\n  ('  ', '  '),\n  ('5', '5'),\n  ('   ', '   '),\n  ('6', '6'),\n  ('  ', '  '),\n  ('do', 'do'),\n  ('modestiam', 'modestia'),\n  (',', ','),\n  ('in', 'in'),\n  ('adiiciendo', 'adiicieo'),\n  ('libertatem', 'libertas'),\n  ('tueri', 'tueor'),\n  ('posse', 'possum'),\n  ('.', '.')],\n [('Verùm', 'Verùm'),\n  ('dum', 'dum'),\n  ('opinionibus', 'opinio'),\n  ('&', '&'),\n  ('moribus', 'mos'),\n  ('consulitur', 'consulo'),\n  (',', ','),\n  ('mediocritates', 'mediocritas'),\n  ('istae', 'iste'),\n  ('laudatae', 'laudao'),\n  (',', ','),\n  ('in', 'in'),\n  ('magnum', 'magnus'),\n  ('Scientiarum', 'Scientia'),\n  ('detrimentum', 'detrimentum'),\n  ('cedunt', 'cedo'),\n  ('.', '.')],\n [('Vix', 'uix'),\n  ('enim', 'enim'),\n  ('datur', 'do'),\n  (',', ','),\n  ('authores', 'aucthor'),\n  ('simul', 'simul'),\n  ('&', '&'),\n  ('admirari', 'admiror'),\n  (',', ','),\n  ('&', '&'),\n  ('superare', 'supero'),\n  ('.', '.')],\n [('Sed', 'sed'),\n  ('fit', 'facio'),\n  ('aquarum', 'aqua'),\n  ('more', 'mos'),\n  (',', ','),\n  ('quae', 'qui'),\n  ('non', 'non'),\n  ('altiùs', 'altiùs'),\n  ('ascendunt', 'ascendo'),\n  (',', ','),\n  ('quàm', 'quàm'),\n  ('ex', 'ex'),\n  ('quo', 'qui'),\n  ('descenderunt', 'descendo'),\n  ('.', '.')],\n [('Itaque', 'itaque'),\n  ('huiusmodi', 'huiusmodi'),\n  ('homines', 'homo'),\n  ('emendant', 'emendo'),\n  ('nonnulla', 'nonnullus'),\n  (',', ','),\n  ('sed', 'sed'),\n  ('parùm', 'parùm'),\n  ('promouent', 'promoueo'),\n  (';', ';')],\n [('&', '&'),\n  ('proficiunt', 'proficio'),\n  ('in', 'in'),\n  ('meliùs', 'meliùs'),\n  (',', ','),\n  ('non', 'non'),\n  ('in', 'in'),\n  ('maiùs', 'maiùs'),\n  ('.', '.')],\n [('Neque', 'neque'),\n  ('tamen', 'tamen'),\n  ('defuerunt', 'defeo'),\n  (',', ','),\n  ('qui', 'qui'),\n  ('ausu', 'ausus'),\n  ('maiore', 'magnus'),\n  (',', ','),\n  ('omnia', 'omnis'),\n  ('integra', 'integer'),\n  ('sibi', 'se'),\n  ('duxerunt', 'duco'),\n  (',', ','),\n  ('&', '&'),\n  ('ingenii', 'ingenium'),\n  ('impetu', 'impetus'),\n  ('vsi', 'usi'),\n  (',', ','),\n  ('priora', 'prior'),\n  ('prosternendo', 'prosterno'),\n  (',', ','),\n  ('&', '&'),\n  ('destruendo', 'destruo'),\n  (',', ','),\n  ('aditum', 'aditus'),\n  ('sibi', 'se'),\n  ('&', '&'),\n  ('placitis', 'placitum'),\n  ('suis', 'suus'),\n  ('fecerunt', 'facio'),\n  (';', ';')],\n [('quorum', 'qui'),\n  ('tumultu', 'tumultus'),\n  ('non', 'non'),\n  ('magnoperè', 'magnoperè'),\n  ('profectum', 'proficiscor'),\n  ('est', 'sum'),\n  (';', ';'),\n  ('quùm', 'quùm'),\n  ('Philosophiam', 'Philosophia'),\n  ('&', '&'),\n  ('Artes', 'Ars'),\n  ('non', 'non'),\n  ('re', 'res'),\n  ('ac', 'atque'),\n  ('opere', 'opus'),\n  ('amplificare', 'amplifico'),\n  (',', ','),\n  ('sed', 'sed'),\n  ('placita', 'placitum'),\n  ('tantùm', 'tantùm'),\n  ('permutare', 'permuto'),\n  (',', ','),\n  ('atque', 'atque'),\n  ('regnum', 'regnum'),\n  ('opinionum', 'opinio'),\n  ('in', 'in'),\n  ('se', 'se'),\n  ('transferre', 'transfero'),\n  ('contenderint', 'contenderint'),\n  (':', ':')],\n [('exiguo', 'exiguus'),\n  ('sanè', 'sanè'),\n  ('fructu', 'fructus'),\n  (',', ','),\n  ('quùm', 'quùm'),\n  ('inter', 'inter'),\n  ('errores', 'error'),\n  ('oppositos', 'opposio'),\n  (',', ','),\n  ('errandi', 'erro'),\n  ('causae', 'causa'),\n  ('sint', 'sum'),\n  ('ferè', 'ferè'),\n  ('communes', 'communis'),\n  ('.', '.')],\n [('Si', 'si'),\n  ('qui', 'qui'),\n  ('autem', 'autem'),\n  ('nec', 'nec'),\n  ('alienis', 'alienus'),\n  (',', ','),\n  ('nec', 'nec'),\n  ('propriis', 'proprius'),\n  ('placitis', 'placitum'),\n  ('obnoxii', 'obnoxii'),\n  (',', ','),\n  ('sed', 'sed'),\n  ('libertati', 'libertas'),\n  ('fauentes', 'faueo'),\n  (',', ','),\n  ('ita', 'ita'),\n  ('animati', 'animo'),\n  ('fuere', 'sum'),\n  (',', ','),\n  ('vt', 'vt'),\n  ('alios', 'alius'),\n  ('secum', 'se'),\n  ('simul', 'simul'),\n  ('quaerere', 'quaero'),\n  ('cuperent', 'cupeo'),\n  (';', ';')],\n [('illi', 'ille'),\n  ('sanè', 'sanè'),\n  ('affectu', 'affectus'),\n  ('honesti', 'honestum'),\n  (',', ','),\n  ('sed', 'sed'),\n  ('conatu', 'conatus'),\n  ('inualidi', 'inualidus'),\n  ('fuerunt', 'sum'),\n  ('.', '.')]]"
     },
     "execution_count": 93,
     "metadata": {},
     "output_type": "execute_result"
    }
   ],
   "source": [
    "all_sents_lemmata[100:120]"
   ],
   "metadata": {
    "collapsed": false,
    "ExecuteTime": {
     "end_time": "2023-11-03T11:14:33.916265Z",
     "start_time": "2023-11-03T11:14:33.910298Z"
    }
   },
   "id": "577b0b213255e327"
  },
  {
   "cell_type": "code",
   "execution_count": null,
   "outputs": [],
   "source": [
    "\"ingeni\", \"ingenium\"\n",
    "\"deuxerit\", \"deueho\"/\"deveho\"\n",
    "\"demerserit\", \"demergo\""
   ],
   "metadata": {
    "collapsed": false
   },
   "id": "8af124748aacdc47"
  },
  {
   "cell_type": "code",
   "execution_count": 96,
   "outputs": [
    {
     "data": {
      "text/plain": "{'text': 'devexerit',\n 'ents': [],\n 'sents': [{'start': 0, 'end': 9}],\n 'tokens': [{'id': 0,\n   'start': 0,\n   'end': 9,\n   'tag': 'verb',\n   'pos': 'VERB',\n   'morph': 'Mood=Ind|Number=Sing|Person=3|Tense=Fut|Verbform=Fin|Voice=Act',\n   'lemma': 'devicio',\n   'dep': 'ROOT',\n   'head': 0}]}"
     },
     "execution_count": 96,
     "metadata": {},
     "output_type": "execute_result"
    }
   ],
   "source": [
    "nlp(\"devexerit\").to_json()"
   ],
   "metadata": {
    "collapsed": false,
    "ExecuteTime": {
     "end_time": "2023-11-03T11:22:31.159224Z",
     "start_time": "2023-11-03T11:22:31.104366Z"
    }
   },
   "id": "4135a449c9396f04"
  },
  {
   "cell_type": "code",
   "execution_count": null,
   "outputs": [],
   "source": [],
   "metadata": {
    "collapsed": false
   },
   "id": "d905c9f43733ffc1"
  }
 ],
 "metadata": {
  "kernelspec": {
   "name": "brewkernel",
   "language": "python",
   "display_name": "brewkernel"
  },
  "language_info": {
   "codemirror_mode": {
    "name": "ipython",
    "version": 2
   },
   "file_extension": ".py",
   "mimetype": "text/x-python",
   "name": "python",
   "nbconvert_exporter": "python",
   "pygments_lexer": "ipython2",
   "version": "2.7.6"
  }
 },
 "nbformat": 4,
 "nbformat_minor": 5
}
