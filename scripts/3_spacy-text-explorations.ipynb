{
 "cells": [
  {
   "cell_type": "code",
   "execution_count": 5,
   "id": "initial_id",
   "metadata": {
    "collapsed": true,
    "ExecuteTime": {
     "end_time": "2023-11-06T14:29:35.983840Z",
     "start_time": "2023-11-06T14:29:35.980862Z"
    }
   },
   "outputs": [],
   "source": [
    "import spacy\n",
    "from spacy.tokens import Doc\n",
    "import sddk\n",
    "import pandas as pd"
   ]
  },
  {
   "cell_type": "code",
   "execution_count": 15,
   "outputs": [],
   "source": [
    "nlp = spacy.load('la_core_web_lg')"
   ],
   "metadata": {
    "collapsed": false,
    "ExecuteTime": {
     "end_time": "2023-11-06T14:35:12.305035Z",
     "start_time": "2023-11-06T14:35:11.585314Z"
    }
   },
   "id": "234d6a3cc5f7a819"
  },
  {
   "cell_type": "code",
   "execution_count": 2,
   "outputs": [
    {
     "data": {
      "text/plain": "   Unnamed: 0       id                                     filenames_list\n0           0  1031760  ['Bacon,_Francis_-_Instauratio_magna__London_1...\n1           1  1085290  ['Linden,_Johannes_Antonides_van_der_-_Lindeni...\n2           2  1285853  ['de_Conde,_Ioannes_Baptista_-_Aphorismi_seu_a...\n3           3  1285854  ['van_Poort,_Henricus_-_Hippocratis_Aphorismi_...\n4           4  1285855  ['Hippocrates_&_Denisot,_Gérard_-_Hippocratis_...",
      "text/html": "<div>\n<style scoped>\n    .dataframe tbody tr th:only-of-type {\n        vertical-align: middle;\n    }\n\n    .dataframe tbody tr th {\n        vertical-align: top;\n    }\n\n    .dataframe thead th {\n        text-align: right;\n    }\n</style>\n<table border=\"1\" class=\"dataframe\">\n  <thead>\n    <tr style=\"text-align: right;\">\n      <th></th>\n      <th>Unnamed: 0</th>\n      <th>id</th>\n      <th>filenames_list</th>\n    </tr>\n  </thead>\n  <tbody>\n    <tr>\n      <th>0</th>\n      <td>0</td>\n      <td>1031760</td>\n      <td>['Bacon,_Francis_-_Instauratio_magna__London_1...</td>\n    </tr>\n    <tr>\n      <th>1</th>\n      <td>1</td>\n      <td>1085290</td>\n      <td>['Linden,_Johannes_Antonides_van_der_-_Lindeni...</td>\n    </tr>\n    <tr>\n      <th>2</th>\n      <td>2</td>\n      <td>1285853</td>\n      <td>['de_Conde,_Ioannes_Baptista_-_Aphorismi_seu_a...</td>\n    </tr>\n    <tr>\n      <th>3</th>\n      <td>3</td>\n      <td>1285854</td>\n      <td>['van_Poort,_Henricus_-_Hippocratis_Aphorismi_...</td>\n    </tr>\n    <tr>\n      <th>4</th>\n      <td>4</td>\n      <td>1285855</td>\n      <td>['Hippocrates_&amp;_Denisot,_Gérard_-_Hippocratis_...</td>\n    </tr>\n  </tbody>\n</table>\n</div>"
     },
     "execution_count": 2,
     "metadata": {},
     "output_type": "execute_result"
    }
   ],
   "source": [
    "ids_filenames_df = pd.read_csv(\"../data/ids_filenames_df.csv\")\n",
    "ids_filenames_df.head(5)"
   ],
   "metadata": {
    "collapsed": false,
    "ExecuteTime": {
     "end_time": "2023-11-06T14:25:59.551858Z",
     "start_time": "2023-11-06T14:25:59.541448Z"
    }
   },
   "id": "7df08bcba183888"
  },
  {
   "cell_type": "code",
   "execution_count": 3,
   "outputs": [
    {
     "name": "stdout",
     "output_type": "stream",
     "text": [
      "connection with shared folder established with you as its ordinary user\n",
      "endpoint variable has been configured to: https://sciencedata.dk/sharingout/kase%40zcu.cz/TOME/DATA/NOSCEMUS/\n"
     ]
    }
   ],
   "source": [
    "s = sddk.cloudSession(provider=\"sciencedata.dk\", shared_folder_name=\"TOME/DATA/NOSCEMUS\", owner=\"kase@zcu.cz\")"
   ],
   "metadata": {
    "collapsed": false,
    "ExecuteTime": {
     "end_time": "2023-11-06T14:26:25.005492Z",
     "start_time": "2023-11-06T14:26:16.090222Z"
    }
   },
   "id": "79df7273ed476626"
  },
  {
   "cell_type": "code",
   "execution_count": 4,
   "outputs": [
    {
     "data": {
      "text/plain": "['1031760.json',\n '1085290.json',\n '1285853.json',\n '1285854.json',\n '1285855.json',\n '1285856.json',\n '1365811.json',\n '1370560.json']"
     },
     "execution_count": 4,
     "metadata": {},
     "output_type": "execute_result"
    }
   ],
   "source": [
    "target_folder_name = \"noscemus_spacyjsons_v1\"\n",
    "jsonfiles_list = s.list_filenames(target_folder_name, \"json\")\n",
    "jsonfiles_list[:10]"
   ],
   "metadata": {
    "collapsed": false,
    "ExecuteTime": {
     "end_time": "2023-11-06T14:26:45.350120Z",
     "start_time": "2023-11-06T14:26:44.871618Z"
    }
   },
   "id": "34bc5c5fe82e46e5"
  },
  {
   "cell_type": "code",
   "execution_count": 17,
   "outputs": [],
   "source": [
    "def filename_to_doc(filename, dir=target_folder_name):\n",
    "    doc_json = s.read_file(dir + \"/\" + filename, \"dict\")\n",
    "    doc = Doc(nlp.vocab).from_json(doc_json)\n",
    "    return doc"
   ],
   "metadata": {
    "collapsed": false,
    "ExecuteTime": {
     "end_time": "2023-11-06T14:35:31.491005Z",
     "start_time": "2023-11-06T14:35:31.488641Z"
    }
   },
   "id": "7d383461acae5343"
  },
  {
   "cell_type": "code",
   "execution_count": null,
   "outputs": [],
   "source": [
    "doc = filename_to_doc(jsonfiles_list[1])"
   ],
   "metadata": {
    "collapsed": false,
    "is_executing": true,
    "ExecuteTime": {
     "start_time": "2023-11-06T14:37:09.539996Z"
    }
   },
   "id": "2ff62112adc2da6"
  },
  {
   "cell_type": "code",
   "execution_count": null,
   "outputs": [],
   "source": [
    "all_sents_lemmata = []\n",
    "for sent in doc.sents:\n",
    "    sent_lemmata = []\n",
    "    for token in sent:\n",
    "        #if token.pos_ in [\"NOUN\", \"VERB\", \"ADJ\"]:\n",
    "        sent_lemmata.append((token.text, token.lemma_, token.tag_))\n",
    "    all_sents_lemmata.append(sent_lemmata)"
   ],
   "metadata": {
    "collapsed": false,
    "is_executing": true
   },
   "id": "3d71c0e485febae4"
  },
  {
   "cell_type": "code",
   "execution_count": null,
   "outputs": [],
   "source": [
    "all_sents_lemmata[:10]"
   ],
   "metadata": {
    "collapsed": false,
    "is_executing": true
   },
   "id": "259e6b4a7b7e2ffd"
  },
  {
   "cell_type": "code",
   "execution_count": null,
   "outputs": [],
   "source": [],
   "metadata": {
    "collapsed": false
   },
   "id": "7d076900b344ec3f"
  }
 ],
 "metadata": {
  "kernelspec": {
   "name": "brewkernel",
   "language": "python",
   "display_name": "brewkernel"
  },
  "language_info": {
   "codemirror_mode": {
    "name": "ipython",
    "version": 2
   },
   "file_extension": ".py",
   "mimetype": "text/x-python",
   "name": "python",
   "nbconvert_exporter": "python",
   "pygments_lexer": "ipython2",
   "version": "2.7.6"
  }
 },
 "nbformat": 4,
 "nbformat_minor": 5
}
