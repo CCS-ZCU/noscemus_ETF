{
 "cells": [
  {
   "cell_type": "code",
   "execution_count": 38,
   "metadata": {},
   "outputs": [],
   "source": [
    "import re\n",
    "import requests\n",
    "import pandas as pd\n",
    "from bs4 import BeautifulSoup"
   ]
  },
  {
   "cell_type": "code",
   "execution_count": 22,
   "metadata": {},
   "outputs": [],
   "source": [
    "#Test webu, vytvoreni nadpisu tabulky a zapsani prvnich metadat \n",
    "url = \"https://wiki.uibk.ac.at/noscemus/A_Latin_Letter_containing_some_Animadversions_upon_Mr._Isaac_Newton,_his_Theory_of_Light\"\n",
    "response = requests.get(url)\n",
    "\n",
    "if response.status_code == 200:\n",
    "    soup = BeautifulSoup(response.content, \"html.parser\")\n",
    "    table = soup.find(\"table\", class_=\"wikitable\")\n",
    "    data = [item.get_text(strip=True) for item in table.find_all(\"td\")]\n",
    "    indices = [item.get_text(strip=True) for item in table.find_all(\"th\")]\n",
    "    metadata_tabulka = pd.DataFrame([indices, data])\n",
    "else:\n",
    "    print(\"Chyba, response code je:\", response.status_code)"
   ]
  },
  {
   "cell_type": "code",
   "execution_count": 48,
   "metadata": {},
   "outputs": [
    {
     "name": "stdout",
     "output_type": "stream",
     "text": [
      "[]\n"
     ]
    }
   ],
   "source": [
    "# vytvoreni druheho dataframu, zapsani zbytku dat a nasledneho pripojeni do \"metadata_tabulka\" ---- ZATIM NEFUNGUJE\n",
    "url = \"https://wiki.uibk.ac.at/noscemus/_-_/index.php?title=Category:Works&pageuntil=De+curandis+vulneribus+sclopettorum#mw-pages\"\n",
    "response = requests.get(url)\n",
    "soup = BeautifulSoup(response.content, \"html.parser\")\n",
    "seznam = soup.find(\"div\", class_=\"mw-category-group\")\n",
    "print(re.findall(\"(?<=href=\\\").*(?=\\\" title)\", seznam)) #myslenka! regexem vysekat nazvy del ze stranky, na jejich zaklade pak uterovat pres webovky. tenhle regex by mel dokazat vyjmout href tag\n",
    "#print(seznam)\n"
   ]
  }
 ],
 "metadata": {
  "kernelspec": {
   "display_name": ".env",
   "language": "python",
   "name": "python3"
  },
  "language_info": {
   "codemirror_mode": {
    "name": "ipython",
    "version": 3
   },
   "file_extension": ".py",
   "mimetype": "text/x-python",
   "name": "python",
   "nbconvert_exporter": "python",
   "pygments_lexer": "ipython3",
   "version": "3.11.6"
  }
 },
 "nbformat": 4,
 "nbformat_minor": 2
}
