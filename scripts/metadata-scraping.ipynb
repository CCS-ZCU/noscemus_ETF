{
 "cells": [
  {
   "cell_type": "code",
   "execution_count": 1,
   "metadata": {
    "ExecuteTime": {
     "end_time": "2023-11-07T14:05:05.821884Z",
     "start_time": "2023-11-07T14:05:04.540230Z"
    }
   },
   "outputs": [],
   "source": [
    "import re\n",
    "import requests\n",
    "import pandas as pd\n",
    "from bs4 import BeautifulSoup"
   ]
  },
  {
   "cell_type": "code",
   "execution_count": 96,
   "metadata": {},
   "outputs": [],
   "source": [
    "#Test webu, vytvoreni nadpisu tabulky a zapsani prvnich metadat \n",
    "url = \"https://wiki.uibk.ac.at/noscemus/A_Latin_Letter_containing_some_Animadversions_upon_Mr._Isaac_Newton,_his_Theory_of_Light\"\n",
    "response = requests.get(url)\n",
    "\n",
    "if response.status_code == 200:\n",
    "    soup = BeautifulSoup(response.content, \"html.parser\")\n",
    "    table = soup.find(\"table\", class_=\"wikitable\")\n",
    "    data = [item.get_text(strip=True) for item in table.find_all(\"td\")]\n",
    "    indices = [item.get_text(strip=True) for item in table.find_all(\"th\")]\n",
    "    metadata_tabulka = pd.DataFrame(columns=indices)\n",
    "else:\n",
    "    print(\"Chyba, response code je:\", response.status_code)"
   ]
  },
  {
   "cell_type": "code",
   "execution_count": 97,
   "metadata": {},
   "outputs": [
    {
     "data": {
      "text/html": [
       "<div>\n",
       "<style scoped>\n",
       "    .dataframe tbody tr th:only-of-type {\n",
       "        vertical-align: middle;\n",
       "    }\n",
       "\n",
       "    .dataframe tbody tr th {\n",
       "        vertical-align: top;\n",
       "    }\n",
       "\n",
       "    .dataframe thead th {\n",
       "        text-align: right;\n",
       "    }\n",
       "</style>\n",
       "<table border=\"1\" class=\"dataframe\">\n",
       "  <thead>\n",
       "    <tr style=\"text-align: right;\">\n",
       "      <th></th>\n",
       "      <th>Author</th>\n",
       "      <th>Full title</th>\n",
       "      <th>In</th>\n",
       "      <th>Year</th>\n",
       "      <th>Place</th>\n",
       "      <th>Publisher/Printer</th>\n",
       "      <th>Era</th>\n",
       "      <th>Form/Genre</th>\n",
       "      <th>Discipline/Content</th>\n",
       "      <th>Digital copies</th>\n",
       "      <th>Description</th>\n",
       "      <th>References</th>\n",
       "      <th>Cited in</th>\n",
       "      <th>How to cite this entry</th>\n",
       "      <th>Internal notes</th>\n",
       "    </tr>\n",
       "  </thead>\n",
       "  <tbody>\n",
       "  </tbody>\n",
       "</table>\n",
       "</div>"
      ],
      "text/plain": [
       "Empty DataFrame\n",
       "Columns: [Author, Full title, In, Year, Place, Publisher/Printer, Era, Form/Genre, Discipline/Content, Digital copies, Description, References, Cited in, How to cite this entry, Internal notes]\n",
       "Index: []"
      ]
     },
     "execution_count": 97,
     "metadata": {},
     "output_type": "execute_result"
    }
   ],
   "source": [
    "metadata_tabulka"
   ]
  },
  {
   "cell_type": "code",
   "execution_count": 101,
   "metadata": {},
   "outputs": [
    {
     "name": "stdout",
     "output_type": "stream",
     "text": [
      "CPU times: user 239 ms, sys: 33 ms, total: 272 ms\n",
      "Wall time: 2.02 s\n"
     ]
    }
   ],
   "source": [
    "%%time\n",
    "# vytvoreni seznamu webovych stranek noscemu, na zaklade ktereho iteruj\n",
    "url = [\"https://wiki.uibk.ac.at/noscemus/_-_/index.php?title=Category:Works&pageuntil=De+curandis+vulneribus+sclopettorum#mw-pages\", \"https://wiki.uibk.ac.at/noscemus/_-_/index.php?title=Category:Works&pagefrom=De+curandis+vulneribus+sclopettorum#mw-pages\", \"https://wiki.uibk.ac.at/noscemus/_-_/index.php?title=Category:Works&pagefrom=Discursus+astronomicus+novissimus#mw-pages\", \"https://wiki.uibk.ac.at/noscemus/_-_/index.php?title=Category:Works&pagefrom=In+opus+revolutionum+Nicolai+Copernici+Torunnaei+dialogus#mw-pages\", \"https://wiki.uibk.ac.at/noscemus/_-_/index.php?title=Category:Works&pagefrom=Petri+Nonii+Salaciensis+opera#mw-pages\",]\n",
    "seznam =[]\n",
    "for item in url:\n",
    "    response = requests.get(item)\n",
    "    soup = BeautifulSoup(response.content, \"html.parser\")\n",
    "    tag = soup.find(\"div\", class_=\"mw-category\")\n",
    "    seznam.extend(re.findall(\"(?<=href=\\\").*(?=\\\" title)\", str(tag)))"
   ]
  },
  {
   "cell_type": "code",
   "execution_count": 99,
   "metadata": {},
   "outputs": [
    {
     "data": {
      "text/plain": [
       "994"
      ]
     },
     "execution_count": 99,
     "metadata": {},
     "output_type": "execute_result"
    }
   ],
   "source": [
    "len(seznam)"
   ]
  },
  {
   "cell_type": "code",
   "execution_count": 95,
   "metadata": {},
   "outputs": [
    {
     "ename": "KeyboardInterrupt",
     "evalue": "",
     "output_type": "error",
     "traceback": [
      "\u001B[0;31m---------------------------------------------------------------------------\u001B[0m",
      "\u001B[0;31mKeyboardInterrupt\u001B[0m                         Traceback (most recent call last)",
      "\u001B[1;32m/Users/asuka/Documents/projects/noscemus_ETF/scripts/metadata-scraping.ipynb Cell 6\u001B[0m line \u001B[0;36m4\n\u001B[1;32m      <a href='vscode-notebook-cell:/Users/asuka/Documents/projects/noscemus_ETF/scripts/metadata-scraping.ipynb#X30sZmlsZQ%3D%3D?line=1'>2</a>\u001B[0m \u001B[39mfor\u001B[39;00m page \u001B[39min\u001B[39;00m seznam:\n\u001B[1;32m      <a href='vscode-notebook-cell:/Users/asuka/Documents/projects/noscemus_ETF/scripts/metadata-scraping.ipynb#X30sZmlsZQ%3D%3D?line=2'>3</a>\u001B[0m     url \u001B[39m=\u001B[39m \u001B[39m\"\u001B[39m\u001B[39mhttps://wiki.uibk.ac.at\u001B[39m\u001B[39m\"\u001B[39m\u001B[39m+\u001B[39mpage\n\u001B[0;32m----> <a href='vscode-notebook-cell:/Users/asuka/Documents/projects/noscemus_ETF/scripts/metadata-scraping.ipynb#X30sZmlsZQ%3D%3D?line=3'>4</a>\u001B[0m     response \u001B[39m=\u001B[39m requests\u001B[39m.\u001B[39;49mget(url)\n\u001B[1;32m      <a href='vscode-notebook-cell:/Users/asuka/Documents/projects/noscemus_ETF/scripts/metadata-scraping.ipynb#X30sZmlsZQ%3D%3D?line=4'>5</a>\u001B[0m     soup \u001B[39m=\u001B[39m BeautifulSoup(response\u001B[39m.\u001B[39mcontent, \u001B[39m\"\u001B[39m\u001B[39mhtml.parser\u001B[39m\u001B[39m\"\u001B[39m)\n\u001B[1;32m      <a href='vscode-notebook-cell:/Users/asuka/Documents/projects/noscemus_ETF/scripts/metadata-scraping.ipynb#X30sZmlsZQ%3D%3D?line=5'>6</a>\u001B[0m     table \u001B[39m=\u001B[39m soup\u001B[39m.\u001B[39mfind(\u001B[39m\"\u001B[39m\u001B[39mtable\u001B[39m\u001B[39m\"\u001B[39m, class_\u001B[39m=\u001B[39m\u001B[39m\"\u001B[39m\u001B[39mwikitable\u001B[39m\u001B[39m\"\u001B[39m)\n",
      "File \u001B[0;32m~/Documents/projects/noscemus_ETF/.env/lib/python3.11/site-packages/requests/api.py:73\u001B[0m, in \u001B[0;36mget\u001B[0;34m(url, params, **kwargs)\u001B[0m\n\u001B[1;32m     62\u001B[0m \u001B[39mdef\u001B[39;00m \u001B[39mget\u001B[39m(url, params\u001B[39m=\u001B[39m\u001B[39mNone\u001B[39;00m, \u001B[39m*\u001B[39m\u001B[39m*\u001B[39mkwargs):\n\u001B[1;32m     63\u001B[0m \u001B[39m    \u001B[39m\u001B[39mr\u001B[39m\u001B[39m\"\"\"Sends a GET request.\u001B[39;00m\n\u001B[1;32m     64\u001B[0m \n\u001B[1;32m     65\u001B[0m \u001B[39m    :param url: URL for the new :class:`Request` object.\u001B[39;00m\n\u001B[0;32m   (...)\u001B[0m\n\u001B[1;32m     70\u001B[0m \u001B[39m    :rtype: requests.Response\u001B[39;00m\n\u001B[1;32m     71\u001B[0m \u001B[39m    \"\"\"\u001B[39;00m\n\u001B[0;32m---> 73\u001B[0m     \u001B[39mreturn\u001B[39;00m request(\u001B[39m\"\u001B[39;49m\u001B[39mget\u001B[39;49m\u001B[39m\"\u001B[39;49m, url, params\u001B[39m=\u001B[39;49mparams, \u001B[39m*\u001B[39;49m\u001B[39m*\u001B[39;49mkwargs)\n",
      "File \u001B[0;32m~/Documents/projects/noscemus_ETF/.env/lib/python3.11/site-packages/requests/api.py:59\u001B[0m, in \u001B[0;36mrequest\u001B[0;34m(method, url, **kwargs)\u001B[0m\n\u001B[1;32m     55\u001B[0m \u001B[39m# By using the 'with' statement we are sure the session is closed, thus we\u001B[39;00m\n\u001B[1;32m     56\u001B[0m \u001B[39m# avoid leaving sockets open which can trigger a ResourceWarning in some\u001B[39;00m\n\u001B[1;32m     57\u001B[0m \u001B[39m# cases, and look like a memory leak in others.\u001B[39;00m\n\u001B[1;32m     58\u001B[0m \u001B[39mwith\u001B[39;00m sessions\u001B[39m.\u001B[39mSession() \u001B[39mas\u001B[39;00m session:\n\u001B[0;32m---> 59\u001B[0m     \u001B[39mreturn\u001B[39;00m session\u001B[39m.\u001B[39;49mrequest(method\u001B[39m=\u001B[39;49mmethod, url\u001B[39m=\u001B[39;49murl, \u001B[39m*\u001B[39;49m\u001B[39m*\u001B[39;49mkwargs)\n",
      "File \u001B[0;32m~/Documents/projects/noscemus_ETF/.env/lib/python3.11/site-packages/requests/sessions.py:589\u001B[0m, in \u001B[0;36mSession.request\u001B[0;34m(self, method, url, params, data, headers, cookies, files, auth, timeout, allow_redirects, proxies, hooks, stream, verify, cert, json)\u001B[0m\n\u001B[1;32m    584\u001B[0m send_kwargs \u001B[39m=\u001B[39m {\n\u001B[1;32m    585\u001B[0m     \u001B[39m\"\u001B[39m\u001B[39mtimeout\u001B[39m\u001B[39m\"\u001B[39m: timeout,\n\u001B[1;32m    586\u001B[0m     \u001B[39m\"\u001B[39m\u001B[39mallow_redirects\u001B[39m\u001B[39m\"\u001B[39m: allow_redirects,\n\u001B[1;32m    587\u001B[0m }\n\u001B[1;32m    588\u001B[0m send_kwargs\u001B[39m.\u001B[39mupdate(settings)\n\u001B[0;32m--> 589\u001B[0m resp \u001B[39m=\u001B[39m \u001B[39mself\u001B[39;49m\u001B[39m.\u001B[39;49msend(prep, \u001B[39m*\u001B[39;49m\u001B[39m*\u001B[39;49msend_kwargs)\n\u001B[1;32m    591\u001B[0m \u001B[39mreturn\u001B[39;00m resp\n",
      "File \u001B[0;32m~/Documents/projects/noscemus_ETF/.env/lib/python3.11/site-packages/requests/sessions.py:703\u001B[0m, in \u001B[0;36mSession.send\u001B[0;34m(self, request, **kwargs)\u001B[0m\n\u001B[1;32m    700\u001B[0m start \u001B[39m=\u001B[39m preferred_clock()\n\u001B[1;32m    702\u001B[0m \u001B[39m# Send the request\u001B[39;00m\n\u001B[0;32m--> 703\u001B[0m r \u001B[39m=\u001B[39m adapter\u001B[39m.\u001B[39;49msend(request, \u001B[39m*\u001B[39;49m\u001B[39m*\u001B[39;49mkwargs)\n\u001B[1;32m    705\u001B[0m \u001B[39m# Total elapsed time of the request (approximately)\u001B[39;00m\n\u001B[1;32m    706\u001B[0m elapsed \u001B[39m=\u001B[39m preferred_clock() \u001B[39m-\u001B[39m start\n",
      "File \u001B[0;32m~/Documents/projects/noscemus_ETF/.env/lib/python3.11/site-packages/requests/adapters.py:486\u001B[0m, in \u001B[0;36mHTTPAdapter.send\u001B[0;34m(self, request, stream, timeout, verify, cert, proxies)\u001B[0m\n\u001B[1;32m    483\u001B[0m     timeout \u001B[39m=\u001B[39m TimeoutSauce(connect\u001B[39m=\u001B[39mtimeout, read\u001B[39m=\u001B[39mtimeout)\n\u001B[1;32m    485\u001B[0m \u001B[39mtry\u001B[39;00m:\n\u001B[0;32m--> 486\u001B[0m     resp \u001B[39m=\u001B[39m conn\u001B[39m.\u001B[39;49murlopen(\n\u001B[1;32m    487\u001B[0m         method\u001B[39m=\u001B[39;49mrequest\u001B[39m.\u001B[39;49mmethod,\n\u001B[1;32m    488\u001B[0m         url\u001B[39m=\u001B[39;49murl,\n\u001B[1;32m    489\u001B[0m         body\u001B[39m=\u001B[39;49mrequest\u001B[39m.\u001B[39;49mbody,\n\u001B[1;32m    490\u001B[0m         headers\u001B[39m=\u001B[39;49mrequest\u001B[39m.\u001B[39;49mheaders,\n\u001B[1;32m    491\u001B[0m         redirect\u001B[39m=\u001B[39;49m\u001B[39mFalse\u001B[39;49;00m,\n\u001B[1;32m    492\u001B[0m         assert_same_host\u001B[39m=\u001B[39;49m\u001B[39mFalse\u001B[39;49;00m,\n\u001B[1;32m    493\u001B[0m         preload_content\u001B[39m=\u001B[39;49m\u001B[39mFalse\u001B[39;49;00m,\n\u001B[1;32m    494\u001B[0m         decode_content\u001B[39m=\u001B[39;49m\u001B[39mFalse\u001B[39;49;00m,\n\u001B[1;32m    495\u001B[0m         retries\u001B[39m=\u001B[39;49m\u001B[39mself\u001B[39;49m\u001B[39m.\u001B[39;49mmax_retries,\n\u001B[1;32m    496\u001B[0m         timeout\u001B[39m=\u001B[39;49mtimeout,\n\u001B[1;32m    497\u001B[0m         chunked\u001B[39m=\u001B[39;49mchunked,\n\u001B[1;32m    498\u001B[0m     )\n\u001B[1;32m    500\u001B[0m \u001B[39mexcept\u001B[39;00m (ProtocolError, \u001B[39mOSError\u001B[39;00m) \u001B[39mas\u001B[39;00m err:\n\u001B[1;32m    501\u001B[0m     \u001B[39mraise\u001B[39;00m \u001B[39mConnectionError\u001B[39;00m(err, request\u001B[39m=\u001B[39mrequest)\n",
      "File \u001B[0;32m~/Documents/projects/noscemus_ETF/.env/lib/python3.11/site-packages/urllib3/connectionpool.py:790\u001B[0m, in \u001B[0;36mHTTPConnectionPool.urlopen\u001B[0;34m(self, method, url, body, headers, retries, redirect, assert_same_host, timeout, pool_timeout, release_conn, chunked, body_pos, preload_content, decode_content, **response_kw)\u001B[0m\n\u001B[1;32m    787\u001B[0m response_conn \u001B[39m=\u001B[39m conn \u001B[39mif\u001B[39;00m \u001B[39mnot\u001B[39;00m release_conn \u001B[39melse\u001B[39;00m \u001B[39mNone\u001B[39;00m\n\u001B[1;32m    789\u001B[0m \u001B[39m# Make the request on the HTTPConnection object\u001B[39;00m\n\u001B[0;32m--> 790\u001B[0m response \u001B[39m=\u001B[39m \u001B[39mself\u001B[39;49m\u001B[39m.\u001B[39;49m_make_request(\n\u001B[1;32m    791\u001B[0m     conn,\n\u001B[1;32m    792\u001B[0m     method,\n\u001B[1;32m    793\u001B[0m     url,\n\u001B[1;32m    794\u001B[0m     timeout\u001B[39m=\u001B[39;49mtimeout_obj,\n\u001B[1;32m    795\u001B[0m     body\u001B[39m=\u001B[39;49mbody,\n\u001B[1;32m    796\u001B[0m     headers\u001B[39m=\u001B[39;49mheaders,\n\u001B[1;32m    797\u001B[0m     chunked\u001B[39m=\u001B[39;49mchunked,\n\u001B[1;32m    798\u001B[0m     retries\u001B[39m=\u001B[39;49mretries,\n\u001B[1;32m    799\u001B[0m     response_conn\u001B[39m=\u001B[39;49mresponse_conn,\n\u001B[1;32m    800\u001B[0m     preload_content\u001B[39m=\u001B[39;49mpreload_content,\n\u001B[1;32m    801\u001B[0m     decode_content\u001B[39m=\u001B[39;49mdecode_content,\n\u001B[1;32m    802\u001B[0m     \u001B[39m*\u001B[39;49m\u001B[39m*\u001B[39;49mresponse_kw,\n\u001B[1;32m    803\u001B[0m )\n\u001B[1;32m    805\u001B[0m \u001B[39m# Everything went great!\u001B[39;00m\n\u001B[1;32m    806\u001B[0m clean_exit \u001B[39m=\u001B[39m \u001B[39mTrue\u001B[39;00m\n",
      "File \u001B[0;32m~/Documents/projects/noscemus_ETF/.env/lib/python3.11/site-packages/urllib3/connectionpool.py:536\u001B[0m, in \u001B[0;36mHTTPConnectionPool._make_request\u001B[0;34m(self, conn, method, url, body, headers, retries, timeout, chunked, response_conn, preload_content, decode_content, enforce_content_length)\u001B[0m\n\u001B[1;32m    534\u001B[0m \u001B[39m# Receive the response from the server\u001B[39;00m\n\u001B[1;32m    535\u001B[0m \u001B[39mtry\u001B[39;00m:\n\u001B[0;32m--> 536\u001B[0m     response \u001B[39m=\u001B[39m conn\u001B[39m.\u001B[39;49mgetresponse()\n\u001B[1;32m    537\u001B[0m \u001B[39mexcept\u001B[39;00m (BaseSSLError, \u001B[39mOSError\u001B[39;00m) \u001B[39mas\u001B[39;00m e:\n\u001B[1;32m    538\u001B[0m     \u001B[39mself\u001B[39m\u001B[39m.\u001B[39m_raise_timeout(err\u001B[39m=\u001B[39me, url\u001B[39m=\u001B[39murl, timeout_value\u001B[39m=\u001B[39mread_timeout)\n",
      "File \u001B[0;32m~/Documents/projects/noscemus_ETF/.env/lib/python3.11/site-packages/urllib3/connection.py:461\u001B[0m, in \u001B[0;36mHTTPConnection.getresponse\u001B[0;34m(self)\u001B[0m\n\u001B[1;32m    458\u001B[0m \u001B[39mfrom\u001B[39;00m \u001B[39m.\u001B[39;00m\u001B[39mresponse\u001B[39;00m \u001B[39mimport\u001B[39;00m HTTPResponse\n\u001B[1;32m    460\u001B[0m \u001B[39m# Get the response from http.client.HTTPConnection\u001B[39;00m\n\u001B[0;32m--> 461\u001B[0m httplib_response \u001B[39m=\u001B[39m \u001B[39msuper\u001B[39;49m()\u001B[39m.\u001B[39;49mgetresponse()\n\u001B[1;32m    463\u001B[0m \u001B[39mtry\u001B[39;00m:\n\u001B[1;32m    464\u001B[0m     assert_header_parsing(httplib_response\u001B[39m.\u001B[39mmsg)\n",
      "File \u001B[0;32m/opt/homebrew/Cellar/python@3.11/3.11.6_1/Frameworks/Python.framework/Versions/3.11/lib/python3.11/http/client.py:1378\u001B[0m, in \u001B[0;36mHTTPConnection.getresponse\u001B[0;34m(self)\u001B[0m\n\u001B[1;32m   1376\u001B[0m \u001B[39mtry\u001B[39;00m:\n\u001B[1;32m   1377\u001B[0m     \u001B[39mtry\u001B[39;00m:\n\u001B[0;32m-> 1378\u001B[0m         response\u001B[39m.\u001B[39;49mbegin()\n\u001B[1;32m   1379\u001B[0m     \u001B[39mexcept\u001B[39;00m \u001B[39mConnectionError\u001B[39;00m:\n\u001B[1;32m   1380\u001B[0m         \u001B[39mself\u001B[39m\u001B[39m.\u001B[39mclose()\n",
      "File \u001B[0;32m/opt/homebrew/Cellar/python@3.11/3.11.6_1/Frameworks/Python.framework/Versions/3.11/lib/python3.11/http/client.py:318\u001B[0m, in \u001B[0;36mHTTPResponse.begin\u001B[0;34m(self)\u001B[0m\n\u001B[1;32m    316\u001B[0m \u001B[39m# read until we get a non-100 response\u001B[39;00m\n\u001B[1;32m    317\u001B[0m \u001B[39mwhile\u001B[39;00m \u001B[39mTrue\u001B[39;00m:\n\u001B[0;32m--> 318\u001B[0m     version, status, reason \u001B[39m=\u001B[39m \u001B[39mself\u001B[39;49m\u001B[39m.\u001B[39;49m_read_status()\n\u001B[1;32m    319\u001B[0m     \u001B[39mif\u001B[39;00m status \u001B[39m!=\u001B[39m CONTINUE:\n\u001B[1;32m    320\u001B[0m         \u001B[39mbreak\u001B[39;00m\n",
      "File \u001B[0;32m/opt/homebrew/Cellar/python@3.11/3.11.6_1/Frameworks/Python.framework/Versions/3.11/lib/python3.11/http/client.py:279\u001B[0m, in \u001B[0;36mHTTPResponse._read_status\u001B[0;34m(self)\u001B[0m\n\u001B[1;32m    278\u001B[0m \u001B[39mdef\u001B[39;00m \u001B[39m_read_status\u001B[39m(\u001B[39mself\u001B[39m):\n\u001B[0;32m--> 279\u001B[0m     line \u001B[39m=\u001B[39m \u001B[39mstr\u001B[39m(\u001B[39mself\u001B[39m\u001B[39m.\u001B[39mfp\u001B[39m.\u001B[39mreadline(_MAXLINE \u001B[39m+\u001B[39m \u001B[39m1\u001B[39m), \u001B[39m\"\u001B[39m\u001B[39miso-8859-1\u001B[39m\u001B[39m\"\u001B[39m)\n\u001B[1;32m    280\u001B[0m     \u001B[39mif\u001B[39;00m \u001B[39mlen\u001B[39m(line) \u001B[39m>\u001B[39m _MAXLINE:\n\u001B[1;32m    281\u001B[0m         \u001B[39mraise\u001B[39;00m LineTooLong(\u001B[39m\"\u001B[39m\u001B[39mstatus line\u001B[39m\u001B[39m\"\u001B[39m)\n",
      "File \u001B[0;32m/opt/homebrew/Cellar/python@3.11/3.11.6_1/Frameworks/Python.framework/Versions/3.11/lib/python3.11/socket.py:706\u001B[0m, in \u001B[0;36mSocketIO.readinto\u001B[0;34m(self, b)\u001B[0m\n\u001B[1;32m    704\u001B[0m \u001B[39mwhile\u001B[39;00m \u001B[39mTrue\u001B[39;00m:\n\u001B[1;32m    705\u001B[0m     \u001B[39mtry\u001B[39;00m:\n\u001B[0;32m--> 706\u001B[0m         \u001B[39mreturn\u001B[39;00m \u001B[39mself\u001B[39;49m\u001B[39m.\u001B[39;49m_sock\u001B[39m.\u001B[39;49mrecv_into(b)\n\u001B[1;32m    707\u001B[0m     \u001B[39mexcept\u001B[39;00m timeout:\n\u001B[1;32m    708\u001B[0m         \u001B[39mself\u001B[39m\u001B[39m.\u001B[39m_timeout_occurred \u001B[39m=\u001B[39m \u001B[39mTrue\u001B[39;00m\n",
      "File \u001B[0;32m/opt/homebrew/Cellar/python@3.11/3.11.6_1/Frameworks/Python.framework/Versions/3.11/lib/python3.11/ssl.py:1311\u001B[0m, in \u001B[0;36mSSLSocket.recv_into\u001B[0;34m(self, buffer, nbytes, flags)\u001B[0m\n\u001B[1;32m   1307\u001B[0m     \u001B[39mif\u001B[39;00m flags \u001B[39m!=\u001B[39m \u001B[39m0\u001B[39m:\n\u001B[1;32m   1308\u001B[0m         \u001B[39mraise\u001B[39;00m \u001B[39mValueError\u001B[39;00m(\n\u001B[1;32m   1309\u001B[0m           \u001B[39m\"\u001B[39m\u001B[39mnon-zero flags not allowed in calls to recv_into() on \u001B[39m\u001B[39m%s\u001B[39;00m\u001B[39m\"\u001B[39m \u001B[39m%\u001B[39m\n\u001B[1;32m   1310\u001B[0m           \u001B[39mself\u001B[39m\u001B[39m.\u001B[39m\u001B[39m__class__\u001B[39m)\n\u001B[0;32m-> 1311\u001B[0m     \u001B[39mreturn\u001B[39;00m \u001B[39mself\u001B[39;49m\u001B[39m.\u001B[39;49mread(nbytes, buffer)\n\u001B[1;32m   1312\u001B[0m \u001B[39melse\u001B[39;00m:\n\u001B[1;32m   1313\u001B[0m     \u001B[39mreturn\u001B[39;00m \u001B[39msuper\u001B[39m()\u001B[39m.\u001B[39mrecv_into(buffer, nbytes, flags)\n",
      "File \u001B[0;32m/opt/homebrew/Cellar/python@3.11/3.11.6_1/Frameworks/Python.framework/Versions/3.11/lib/python3.11/ssl.py:1167\u001B[0m, in \u001B[0;36mSSLSocket.read\u001B[0;34m(self, len, buffer)\u001B[0m\n\u001B[1;32m   1165\u001B[0m \u001B[39mtry\u001B[39;00m:\n\u001B[1;32m   1166\u001B[0m     \u001B[39mif\u001B[39;00m buffer \u001B[39mis\u001B[39;00m \u001B[39mnot\u001B[39;00m \u001B[39mNone\u001B[39;00m:\n\u001B[0;32m-> 1167\u001B[0m         \u001B[39mreturn\u001B[39;00m \u001B[39mself\u001B[39;49m\u001B[39m.\u001B[39;49m_sslobj\u001B[39m.\u001B[39;49mread(\u001B[39mlen\u001B[39;49m, buffer)\n\u001B[1;32m   1168\u001B[0m     \u001B[39melse\u001B[39;00m:\n\u001B[1;32m   1169\u001B[0m         \u001B[39mreturn\u001B[39;00m \u001B[39mself\u001B[39m\u001B[39m.\u001B[39m_sslobj\u001B[39m.\u001B[39mread(\u001B[39mlen\u001B[39m)\n",
      "\u001B[0;31mKeyboardInterrupt\u001B[0m: "
     ]
    }
   ],
   "source": [
    "#zapsani metadat ze vsech zaznamu v noscemus do pd.dataframu \"metadata_tabulka\"\n",
    "for page in seznam:\n",
    "    url = \"https://wiki.uibk.ac.at\"+page\n",
    "    response = requests.get(url)\n",
    "    soup = BeautifulSoup(response.content, \"html.parser\")\n",
    "    table = soup.find(\"table\", class_=\"wikitable\")\n",
    "    data = [item.get_text(strip=True) for item in table.find_all(\"td\")]\n",
    "    metadata_tabulka = pd.DataFrame([data])\n",
    "metadata_tabulka \n",
    "## pouzit concat of vojty, prepsat komentare do anglictiny"
   ]
  }
 ],
 "metadata": {
  "kernelspec": {
   "display_name": ".env",
   "language": "python",
   "name": "python3"
  },
  "language_info": {
   "codemirror_mode": {
    "name": "ipython",
    "version": 3
   },
   "file_extension": ".py",
   "mimetype": "text/x-python",
   "name": "python",
   "nbconvert_exporter": "python",
   "pygments_lexer": "ipython3",
   "version": "3.11.6"
  }
 },
 "nbformat": 4,
 "nbformat_minor": 2
}
